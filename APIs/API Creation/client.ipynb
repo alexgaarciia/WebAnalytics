{
  "cells": [
    {
      "cell_type": "code",
      "execution_count": null,
      "id": "add2244c",
      "metadata": {
        "id": "add2244c",
        "outputId": "4316273e-76d9-40db-d363-28534c29d2c9"
      },
      "outputs": [],
      "source": [
        "import requests\n",
        "import os\n",
        "import json\n",
        "\n",
        "#Function to connect to the server. It returns:\n",
        "#   - response => A JSON containing the answer\n",
        "#   - status code:\n",
        "#       -200: If everything was OK.\n",
        "#       -400: If the server detectes an error in the query.\n",
        "\n",
        "def connect_to_server(url):\n",
        "    # It should not be necessary to modify this function\n",
        "    response = requests.request(\"GET\", url)\n",
        "    print(\"STATUS CODE:\"+str(response.status_code))\n",
        "    return response.status_code, response\n",
        "\n",
        "\n",
        "#Below you have all the endpoints options.\n",
        "#You just need to uncomment the one you want to use.\n",
        "\n",
        "#endpoint=\"test_connectivity_M1\"\n",
        "endpoint=\"count_countries_M2\"\n",
        "#endpoint=\"count_countries_M3\"\n",
        "#endpoint=\"age_groups_M4\"\n",
        "#endpoint=\"users_M5\"\n",
        "#endpoint=\"users_control_error_M6\"\n",
        "#endpoint=\"access_token_M7\"\n",
        "\n",
        "\n",
        "#This is a preliminary code that prints the received output in the screen.\n",
        "#You need to substitute this code in each milestone to print the requested\n",
        "#output per screen.\n",
        "url = \"http://localhost:8080/{}\".format(endpoint)\n",
        "print(url)\n",
        "status_code, response= connect_to_server(url)\n",
        "json_output=response.json()\n",
        "print(response.text)\n",
        "\n",
        "\n"
      ]
    }
  ],
  "metadata": {
    "colab": {
      "provenance": []
    },
    "kernelspec": {
      "display_name": "base",
      "language": "python",
      "name": "python3"
    },
    "language_info": {
      "codemirror_mode": {
        "name": "ipython",
        "version": 3
      },
      "file_extension": ".py",
      "mimetype": "text/x-python",
      "name": "python",
      "nbconvert_exporter": "python",
      "pygments_lexer": "ipython3",
      "version": "3.12.4"
    }
  },
  "nbformat": 4,
  "nbformat_minor": 5
}
