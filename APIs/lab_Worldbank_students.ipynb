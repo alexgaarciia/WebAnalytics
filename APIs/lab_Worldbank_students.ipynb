{
  "cells": [
    {
      "cell_type": "markdown",
      "source": [
        "<img src=\"https://www.uc3m.es/ss/Satellite?blobcol=urldata&blobkey=id&blobtable=MungoBlobs&blobwhere=1371573952659\">\n",
        "\n",
        "\n",
        "---\n",
        "\n",
        "\n",
        "# **WEB ANALYTICS COURSE 4 - SEMESTER 2**\n",
        "# **BACHELOR IN DATA SCIENCE AND ENGINEERING**\n",
        "\n",
        "# **LAB 1 APIs - WORLD BANK**\n"
      ],
      "metadata": {
        "id": "kOG232dEHQkj"
      },
      "id": "kOG232dEHQkj"
    },
    {
      "cell_type": "markdown",
      "source": [
        "## Group Members\n",
        "* Ángela María Durán Pinto: 100472766\n",
        "* Alejandro Leonardo García Navarro: 100472710\n",
        "* Melania Guerra Ulloa: 100457522\n",
        "* Francisco Javier Molina Tirado: 100456560"
      ],
      "metadata": {
        "id": "NYn95_QFM4h5"
      },
      "id": "NYn95_QFM4h5"
    },
    {
      "cell_type": "markdown",
      "source": [
        "# 0. LAB PREPARATION\n",
        "\n",
        "Students have to complete the following tasks before attedning the lab:\n",
        "\n",
        "1. **Read and study the API documentation to have some initial notions of the functionality of the World Bank API. Following, we share several links to the documentation related to the World Bank API:**\n",
        "- https://datahelpdesk.worldbank.org/knowledgebase/articles/898581-api-basic-call-structures\n",
        "- https://datahelpdesk.worldbank.org/knowledgebase/topics/125589-developer-information\n",
        "- https://datahelpdesk.worldbank.org/knowledgebase/articles/889392-about-the-indicators-api-documentation\n",
        "\n",
        "2. **The key element of the World Bank API are the \"indicators\". Next, we share a link that may simplify the search of indicators through a search tool. Once you have selected an indicator you can find its codification within the url bar of the browser.**\n",
        "\n",
        "- https://data.worldbank.org/indicator?tab=featured\n",
        "\n",
        "# **1. INTRODUCTION**\n",
        "\n",
        "* The goal of this lab is to gain experience testing a widely-used API such as the World Bank API that includes bunch of information about countries indicators in economy, health, education, agriculture, etc.\n",
        "\n",
        "* The lab includes 5 milestones that will drive the student through the use of several indicators.  \n",
        "\n",
        "* The lab will be done in groups of 23 students.\n",
        "\n",
        "* The lab will use two complete consecutive sessions (4 hours). The students are expected to complete the 5 milestones proposed in the lab within these 2 sessions\n",
        "\n",
        "* **The final mark will be computed as a function of the number of milestones successfully completed.**\n",
        "\n",
        "* **Each group should also upload their lab notebook in the corresponding task in Aula Global.**\n",
        "\n",
        "* Upon completing all the milestones, students should call the professor, who will check the correctness of the solution. Partial milestones checks may be allowed in some cases.\n",
        "\n",
        "# 2. **MILESTONES**\n",
        "\n",
        "In this section we describe one by one the milestones and leave a space to the students to implement the code to complete the requested task.\n",
        "\n",
        "**NOTE: Unless otherwise stated, all the milestones have to deliver information about countries. Therefore, you should not consider regions or any other aggreated information in your analysis.**"
      ],
      "metadata": {
        "id": "Ry19wO8LIsr9"
      },
      "id": "Ry19wO8LIsr9"
    },
    {
      "cell_type": "markdown",
      "source": [
        "# **2.1. MILESTONE 1: POPULATION**:\n",
        "Retrieve the 2022 countries' population and show the Top 10 countries and the Bottom 10 countries within the World Bank database.\n",
        "\n"
      ],
      "metadata": {
        "id": "WGN71hXJvQoG"
      },
      "id": "WGN71hXJvQoG"
    },
    {
      "cell_type": "markdown",
      "source": [],
      "metadata": {
        "id": "mdUq3srWHN0Y"
      },
      "id": "mdUq3srWHN0Y"
    },
    {
      "cell_type": "code",
      "source": [
        "!pip install wbgapi"
      ],
      "metadata": {
        "id": "wOcnQaFTnoZc",
        "collapsed": true
      },
      "id": "wOcnQaFTnoZc",
      "execution_count": null,
      "outputs": []
    },
    {
      "cell_type": "code",
      "source": [
        "import wbgapi as wb\n",
        "indicators = wb.series.info()\n",
        "print(indicators)"
      ],
      "metadata": {
        "id": "iPLc0zenni_-"
      },
      "id": "iPLc0zenni_-",
      "execution_count": null,
      "outputs": []
    },
    {
      "cell_type": "code",
      "source": [
        "import requests\n",
        "import pandas as pd\n",
        "\n",
        "# Get the list of all countries (we guarantee that we only take countries\n",
        "# by checking that they have a capital)\n",
        "country_url = \"https://api.worldbank.org/v2/country?format=json\"\n",
        "response = requests.get(country_url)\n",
        "countries_data = response.json()[1]\n",
        "country_codes = {country['id']: country['name'] for country in countries_data if country['capitalCity']}\n",
        "\n",
        "# Retrieve population data for each country for 2022\n",
        "population_data = []\n",
        "for code in country_codes.keys():\n",
        "    population_url = f\"https://api.worldbank.org/v2/country/{code}/indicator/SP.POP.TOTL?date=2022&format=json\"\n",
        "    response = requests.get(population_url)\n",
        "    data = response.json()[1]\n",
        "    population_value = data[0]['value']\n",
        "    population_data.append({\n",
        "        'country_name': country_codes[code],\n",
        "        'population': population_value\n",
        "    })\n",
        "\n",
        "# Convert the population data to a DataFrame and sort it\n",
        "df_population = pd.DataFrame(population_data).sort_values(by='population', ascending=False)"
      ],
      "metadata": {
        "id": "ZHh5quMhHL0I"
      },
      "id": "ZHh5quMhHL0I",
      "execution_count": null,
      "outputs": []
    },
    {
      "cell_type": "code",
      "source": [
        "# Get the top 10 and bottom 10 countries by population\n",
        "top_10_countries = df_population.head(10)\n",
        "bottom_10_countries = df_population.tail(10)\n",
        "\n",
        "# Print the results\n",
        "print(\"Top 10 Countries by Population (2022):\")\n",
        "print(top_10_countries[['country_name', 'population']])\n",
        "\n",
        "print(\"\\nBottom 10 Countries by Population (2022):\")\n",
        "print(bottom_10_countries[['country_name', 'population']])"
      ],
      "metadata": {
        "id": "qc_O_hM2cUqj"
      },
      "id": "qc_O_hM2cUqj",
      "execution_count": null,
      "outputs": []
    },
    {
      "cell_type": "markdown",
      "source": [
        "# **2.2. MILESTONE 2: WOMEN Vs. MEN POPULATION**:\n",
        "Obtain the % of men and women for each country and compute the difference among them using the formula %women - %men. Display:\n",
        "\n",
        "1- The number of countries with more women than men.\n",
        "\n",
        "2- The number of countries with more men than women\n",
        "\n",
        "3- The 10 countries with more women compared to men (ten countries with the largest positive value of the previous metric)\n",
        "\n",
        "- The 10 countries with more men compared to women (ten countries with the largest negative value of the previous metric).\n",
        "\n",
        "**Note**: You can use the indicator the absolute number of men and women from the World Bank API and compute the % for each country and the difference, or you can use the indicator given directly the %.\n",
        "\n"
      ],
      "metadata": {
        "id": "RoZs2zuFC3sN"
      },
      "id": "RoZs2zuFC3sN"
    },
    {
      "cell_type": "code",
      "source": [
        "# Create a dataframe that contains the number and percentage of each gender for each country\n",
        "gender_data = []\n",
        "for code in country_codes.keys():\n",
        "    # Retrieve Female % of total population\n",
        "    female_percentage_url = f\"https://api.worldbank.org/v2/country/{code}/indicator/SP.POP.TOTL.FE.ZS?format=json\"\n",
        "    female_percentage_response = requests.get(female_percentage_url)\n",
        "    female_percentage_data = female_percentage_response.json()[1]\n",
        "\n",
        "    # Retrieve Male % of total population\n",
        "    male_percentage_url = f\"https://api.worldbank.org/v2/country/{code}/indicator/SP.POP.TOTL.MA.ZS?format=json\"\n",
        "    male_percentage_response = requests.get(male_percentage_url)\n",
        "    male_percentage_data = male_percentage_response.json()[1]\n",
        "\n",
        "    female_percentage_value = female_percentage_data[0]['value']\n",
        "    male_percentage_value = male_percentage_data[0]['value']\n",
        "\n",
        "    gender_data.append({\n",
        "        'country_name': country_codes[code],\n",
        "        'female_percentage': female_percentage_value,\n",
        "        'male_percentage': male_percentage_value\n",
        "  })\n",
        "\n",
        "df_gender = pd.DataFrame(gender_data)\n",
        "\n",
        "# Calculate the difference\n",
        "df_gender['percentage_difference'] = df_gender['female_percentage'] - df_gender['male_percentage']\n",
        "df_gender"
      ],
      "metadata": {
        "id": "jRsb98VeYEAE"
      },
      "id": "jRsb98VeYEAE",
      "execution_count": null,
      "outputs": []
    },
    {
      "cell_type": "code",
      "source": [
        "## 1. The number of countries with more women than men\n",
        "more_women_than_men_count = (df_gender['percentage_difference'] > 0).sum()\n",
        "\n",
        "## 2. The number of countries with more men than women\n",
        "more_men_than_women_count = (df_gender['percentage_difference'] < 0).sum()\n",
        "\n",
        "## 3. The 10 countries with more women compared to men (ten countries with the largest positive value of the previous metric)\n",
        "top_10_women_countries = df_gender.nlargest(10, 'percentage_difference')\n",
        "\n",
        "## 4. The 10 countries with more men compared to women (ten countries with the largest negative value of the previous metric)\n",
        "top_10_men_countries = df_gender.nsmallest(10, 'percentage_difference')"
      ],
      "metadata": {
        "id": "GwhVz3B5Y5Hu"
      },
      "id": "GwhVz3B5Y5Hu",
      "execution_count": null,
      "outputs": []
    },
    {
      "cell_type": "code",
      "source": [
        "# Print the results\n",
        "print(f\"Number of countries with more women than men: {more_women_than_men_count}\")\n",
        "print(f\"Number of countries with more men than women: {more_men_than_women_count}\")\n",
        "\n",
        "print(\"\\nTop 10 Countries with More Women Compared to Men:\")\n",
        "print(top_10_women_countries[['country_name', 'female_percentage', 'male_percentage', 'percentage_difference']])\n",
        "\n",
        "print(\"\\nTop 10 Countries with More Men Compared to Women:\")\n",
        "print(top_10_men_countries[['country_name', 'female_percentage', 'male_percentage', 'percentage_difference']])"
      ],
      "metadata": {
        "id": "Kx7MjZNEcfMp"
      },
      "id": "Kx7MjZNEcfMp",
      "execution_count": null,
      "outputs": []
    },
    {
      "cell_type": "markdown",
      "source": [
        "## **2.3. MILESTONE 3: GDP PER CAPITA ACCORDING FOR INCOME LEVEL GROUPS**:\n",
        "\n",
        "Compute the average increase/decrease in percentage for the GDP per capita in US dollars in the following two periods: 2000-2022 and  2010-2022, GDPfor the following income groups: low-income economies, lower-middle-income economies, middle economies, upper-middle-income economies and high-income economies. The following, link provides information of the different country aggregations carried out by the World Bank.  \n",
        "\n",
        "https://datahelpdesk.worldbank.org/knowledgebase/articles/906519-world-bank-country-and-lending-groups\n",
        "\n",
        " You should compute the %GDP increase as follows. Given country A with a PIB Per Capita \\$20000 in 2000 and \\$30000 in 2022 the increase/decrease should be computed as follow:\n",
        "\n",
        "%GDP increase = 100*(30000-20000)/20000=50%.\n"
      ],
      "metadata": {
        "id": "YidJbEth0kM6"
      },
      "id": "YidJbEth0kM6"
    },
    {
      "cell_type": "code",
      "source": [
        "#SOLUTION MILESTONE 3"
      ],
      "metadata": {
        "id": "OsMy7ZXaHe18"
      },
      "id": "OsMy7ZXaHe18",
      "execution_count": null,
      "outputs": []
    },
    {
      "cell_type": "markdown",
      "source": [],
      "metadata": {
        "id": "GNzRCLvh0kI8"
      },
      "id": "GNzRCLvh0kI8"
    },
    {
      "cell_type": "markdown",
      "source": [
        "# **2.4. MILESTONE 4: TOP 5 COUNTRIES INCREASE GDP PER INCOME-GROUP**\n",
        "\n",
        "For each of the income groups included in Milestone 3 and the period 2010-2022 list the Top 5 countries in terms of %GDPR per capita increase along with the value\n",
        "\n",
        "**NOTE**: Do not consider the countries for which you do not have data either in 2010 or 2022 or both of them"
      ],
      "metadata": {
        "id": "HOqhV6MaQKLg"
      },
      "id": "HOqhV6MaQKLg"
    },
    {
      "cell_type": "code",
      "source": [
        "#SOLUTION MILESTONE 4"
      ],
      "metadata": {
        "id": "Omzo5PZ8HnbI"
      },
      "id": "Omzo5PZ8HnbI",
      "execution_count": null,
      "outputs": []
    },
    {
      "cell_type": "markdown",
      "source": [
        "# **2.5. MILESTONE 5: CO2 emission per capita**\n",
        "\n",
        "Retrieve the most recent non empty value for the amount of CO2 emission per capita (metric tons per country) for all the countries. Display the 30 countries with the highest CO2 emission per capita along with their value and the year related to that value.\n",
        "\n",
        "**NOTE**: You cannot search manually the year and use it in your query for this milestone.\n"
      ],
      "metadata": {
        "id": "lbWffR2QwNuh"
      },
      "id": "lbWffR2QwNuh"
    },
    {
      "cell_type": "code",
      "source": [
        "#SOLUTION MILESTONE 5"
      ],
      "metadata": {
        "id": "Q3FUei05HuAM"
      },
      "id": "Q3FUei05HuAM",
      "execution_count": null,
      "outputs": []
    }
  ],
  "metadata": {
    "colab": {
      "provenance": []
    },
    "kernelspec": {
      "display_name": "Python 3",
      "language": "python",
      "name": "python3"
    },
    "language_info": {
      "codemirror_mode": {
        "name": "ipython",
        "version": 3
      },
      "file_extension": ".py",
      "mimetype": "text/x-python",
      "name": "python",
      "nbconvert_exporter": "python",
      "pygments_lexer": "ipython3",
      "version": "3.6.8"
    }
  },
  "nbformat": 4,
  "nbformat_minor": 5
}