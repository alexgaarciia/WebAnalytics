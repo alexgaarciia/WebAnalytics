{
  "cells": [
    {
      "cell_type": "markdown",
      "metadata": {
        "id": "-xQTNqQaK6rL"
      },
      "source": [
        "<img src=\"https://www.uc3m.es/ss/Satellite?blobcol=urldata&blobkey=id&blobtable=MungoBlobs&blobwhere=1371573952659\">\n",
        "\n",
        "---\n",
        "\n",
        "# WEB ANALYTICS COURSE 4 - SEMESTER 2\n",
        "# BACHELOR IN DATA SCIENCE AND ENGINEERING\n",
        "\n",
        "# LAB DATA VISUALIZATION IN THE WEB\n",
        "\n",
        "---\n"
      ]
    },
    {
      "cell_type": "markdown",
      "source": [
        "## Group Members\n",
        "* Ángela María Durán Pinto: 100472766\n",
        "* Alejandro Leonardo García Navarro: 100472710\n",
        "* Melania Guerra Ulloa: 100457522\n",
        "* Francisco Javier Molina Tirado: 100456560"
      ],
      "metadata": {
        "id": "RDhYTlVZwY62"
      }
    },
    {
      "cell_type": "markdown",
      "metadata": {
        "id": "J6mN5ldXROH6"
      },
      "source": [
        "In this block we will use data from the *Instituto Nacional de Estadística* [INE](https://www.ine.es/index.htm). We will be focus on the Tourism Sector.\n",
        "\n",
        "We are going to analyze the tourism from two points of view. On the one hand, we are going to use the data that give us information on the history of travel in Spain. On the other hand, we will analyze employment in the tourism sector. You can visit the INE website for more information about the datasets. But in this [folder](https://drive.google.com/file/d/13Jhw6LWyja1z1be3bFKAWOh5KeM3XuqZ/view?usp=sharing) you can find the files that we will use in the labs."
      ]
    },
    {
      "cell_type": "markdown",
      "metadata": {
        "id": "6Ny97TByAXfE"
      },
      "source": [
        "# Lab1: Data Processing and Visualization in Python"
      ]
    },
    {
      "cell_type": "markdown",
      "metadata": {
        "id": "iQeyQuk_Lf7p"
      },
      "source": [
        "## 0. Lab Preparation\n",
        "\n",
        "1.  Study and have clear the concepts explained in the theoretical class and the introductory lab.\n",
        "\n",
        "2.   Gain experience with the use of the [Pandas](https://pandas.pydata.org/), [Matplotlib](https://matplotlib.org/) and/or [Seaborn](https://seaborn.pydata.org/) and [Folium](https://python-visualization.github.io/folium/). The exercises of this lab will be mainly based on the utilization of functions offered by these libraries for data cleaning and data processing.\n",
        "\n",
        "3. It is assumed students have experience in using Python notebooks. Either a local installation (e.g., local python installation + Jupyter) or a cloud-based solution (e.g., Google Colab). *We recommend the second option*."
      ]
    },
    {
      "cell_type": "markdown",
      "metadata": {
        "id": "4OrhFS17L0oJ"
      },
      "source": [
        "## 1. Lab Introduction\n",
        "\n",
        "* In this lab, we will prepare our dataset for later analysis and visualization using [Pandas](https://pandas.pydata.org/), [Matplotlib](https://matplotlib.org/) and/or [Seaborn](https://seaborn.pydata.org/) and [Folium](https://python-visualization.github.io/folium/).\n",
        "\n",
        "* The lab will be done in groups of 2 people.\n",
        "\n",
        "* The lab defines a set of milestones the students must complete. Upon completing every milestone, students should call the professor, who will check the correctness of the solution (*If the professor is busy, do not wait for them, move to the next milestone*).\n",
        "\n",
        "* **The final mark will be computed as a function of the number of milestones successfully completed.**\n",
        "\n",
        "* **Each group should also share their lab notebook with the professor upon the finalization of the lab.**\n",
        "\n",
        "- It is recommended to use [Google Colab](https://colab.research.google.com/) to produce the Python notebook with the solution of the lab. Of course, if any student prefers using its local programming environment (e.g., jupyter) and python installation, they are welcome to do so."
      ]
    },
    {
      "cell_type": "code",
      "execution_count": null,
      "metadata": {
        "id": "6rBnBj8nCagw"
      },
      "outputs": [],
      "source": [
        "from google.colab import drive\n",
        "drive.mount('/content/drive')"
      ]
    },
    {
      "cell_type": "markdown",
      "metadata": {
        "id": "x-sNYy2lNu0U"
      },
      "source": [
        "## Milestone 1\n",
        "\n",
        "1. Load the datasets about tourism ([INE_tourism](https://drive.google.com/file/d/13Jhw6LWyja1z1be3bFKAWOh5KeM3XuqZ/view?usp=sharing)) into dataframes\n",
        "2. Prepare the data for later analysis, that is:\n",
        "  * Split the column *Periodo* in *Year* and *Quarter* or *Month*.\n",
        "  * Transform column numbers that are identified as Objects by Python to numbers. (Print *dtypes* of your dataframes to check it is done correctly).\n",
        "  * Extract the Autonomous Community (CCAA) from the corresponding column.\n",
        "  \n",
        "\n"
      ]
    },
    {
      "cell_type": "code",
      "source": [
        "import pandas as pd\n",
        "import seaborn as sns\n",
        "import matplotlib.pyplot as plt"
      ],
      "metadata": {
        "id": "i5HC1Jhz0CK-"
      },
      "execution_count": null,
      "outputs": []
    },
    {
      "cell_type": "code",
      "execution_count": null,
      "metadata": {
        "id": "_K2mNV-3DrG5"
      },
      "outputs": [],
      "source": [
        "# Load the datasets about tourism\n",
        "tourism_datasets = [\n",
        "    \"/content/drive/My Drive/INE_tourism/Número de turistas según comunidad autónoma de destino principal.csv\",\n",
        "    \"/content/drive/My Drive/INE_tourism/Número de turistas según motivo principal del viaje.csv\",\n",
        "    \"/content/drive/My Drive/INE_tourism/Viajes con destino principal interno, pernoctaciones, duración media y gasto por tipo de destino principal, según comunidad autónoma de residencia de los viajeros.csv\",\n",
        "    \"/content/drive/My Drive/INE_tourism/Viajes, pernoctaciones, duración media y gasto por comunidad autónoma de residencia de los viajeros.csv\"\n",
        "]"
      ]
    },
    {
      "cell_type": "code",
      "source": [
        "# Define a function to prepare the data for later analysis\n",
        "def data_preparation(datasets):\n",
        "  # Split the column Periodo in Year and Quarter or Month\n",
        "  if df[\"Periodo\"].str.contains(\"T\").any():\n",
        "    df[[\"Year\", \"Quarter\"]] = df[\"Periodo\"].str.split(\"T\", expand=True)\n",
        "  elif df[\"Periodo\"].str.contains(\"M\").any():\n",
        "    df[[\"Year\", \"Month\"]] = df[\"Periodo\"].str.split(\"M\", expand=True)\n",
        "\n",
        "  # Transform column numbers that are identified as Objects by Python to numbers\n",
        "  df[\"Total\"] = pd.to_numeric(df[\"Total\"].str.replace(\".\", \"\", regex=False).str.replace(\",\", \".\", regex=False), errors=\"raise\")\n",
        "  df[\"Year\"] = pd.to_numeric(df[\"Year\"], errors=\"raise\")\n",
        "\n",
        "  if \"Quarter\" in df.columns:\n",
        "    df[\"Quarter\"] = pd.to_numeric(df[\"Quarter\"], errors=\"raise\")\n",
        "\n",
        "  if \"Month\" in df.columns:\n",
        "    df[\"Month\"] = pd.to_numeric(df[\"Month\"], errors=\"raise\")\n",
        "\n",
        "  # Generalize the name of the columns that contain values related to CCAA\n",
        "  possible_names = [\"Comunidades autónomas\", \"Comunidad autónoma\", \"Comunidad autónoma de residencia\", \"Comunidades y Ciudades Autónomas\"]\n",
        "  for name in possible_names:\n",
        "      if name in df.columns:\n",
        "          df.rename(columns={name: \"CCAA\"}, inplace=True)\n",
        "          break"
      ],
      "metadata": {
        "id": "KJXKWioR-vQJ"
      },
      "execution_count": null,
      "outputs": []
    },
    {
      "cell_type": "code",
      "source": [
        "# Load the datasets into pandas dataframes\n",
        "tourism_dfs = [pd.read_csv(file, sep=\"\\t\") for file in tourism_datasets]\n",
        "\n",
        "# Prepare all the dataframes for data analysis\n",
        "for df in tourism_dfs:\n",
        "  data_preparation(df)"
      ],
      "metadata": {
        "id": "vjHy-PyKST4G"
      },
      "execution_count": null,
      "outputs": []
    },
    {
      "cell_type": "code",
      "source": [
        "# Extract the Autonomous Community (CCAA) from the corresponding column\n",
        "ccaa_list = []\n",
        "\n",
        "for df in tourism_dfs:\n",
        "  if \"CCAA\" in df.columns:\n",
        "    ccaa_list.extend(df[\"CCAA\"].dropna().unique())\n",
        "\n",
        "# Remove duplicates from the list\n",
        "ccaa_list = list(set(ccaa_list))\n",
        "ccaa_list"
      ],
      "metadata": {
        "id": "usldPLY_LRwA"
      },
      "execution_count": null,
      "outputs": []
    },
    {
      "cell_type": "markdown",
      "metadata": {
        "id": "XY9KMGSeN3xk"
      },
      "source": [
        "## Milestone 2\n",
        "\n",
        "1. Load the datasets about employment ([INE_employment](https://drive.google.com/file/d/13Jhw6LWyja1z1be3bFKAWOh5KeM3XuqZ/view?usp=sharing)) into dataframes\n",
        "2. Prepare the data for later analysis, that is:\n",
        "  * Split the column *Periodo* in *Year* and *Quarter* or *Month*.\n",
        "  * Transform column numbers that are identified as Objects by Python to numbers. (Print *dtypes* of your dataframes to check it is done correctly).\n",
        "  * Extract the Autonomous Community (CCAA) from the corresponding column.\n",
        "  * From the \"Ocupados por sexo y rama de actividad. Valores absolutos y porcentajes respecto del total de cada sexo\" file:\n",
        "    * Extract CNAE Code from column *Rama de actividad CNAE 2009* (you must regular expressions).\n",
        "    * Filter the dataframe to obtain the rows with CNAE Codes: 49, 50, 51, 52, 55, 56, 77, 79, 90, 91, 93.\n",
        "  * From the \"Ocupados por rama de actividad, sexo y comunidad autónoma\" file:\n",
        "    * Filter the dataframe to obtain only the rows with the following activities (*Rama de actividad CNAE 2009*):\n",
        "      * G + H + I\n",
        "      * M + N\n",
        "      * R + S + T + U\n",
        "\n"
      ]
    },
    {
      "cell_type": "code",
      "execution_count": null,
      "metadata": {
        "id": "zxiZM288Dv8Y"
      },
      "outputs": [],
      "source": [
        "# Load the datasets about employment\n",
        "employment_datasets = [\n",
        "    \"/content/drive/My Drive/INE_employment/Ocupados por rama de actividad, sexo y comunidad autónoma.csv\",\n",
        "    \"/content/drive/My Drive/INE_employment/Ocupados por sexo y rama de actividad. Valores absolutos y porcentajes respecto del total de cada sexo.csv\",\n",
        "]"
      ]
    },
    {
      "cell_type": "code",
      "source": [
        "# Prepare the data for later analysis\n",
        "employment_dfs = [pd.read_csv(file, sep=\"\\t\") for file in employment_datasets]\n",
        "\n",
        "for df in employment_dfs:\n",
        "  data_preparation(df)"
      ],
      "metadata": {
        "id": "MZP674KZHtJ-"
      },
      "execution_count": null,
      "outputs": []
    },
    {
      "cell_type": "code",
      "source": [
        "# From the \"Ocupados por sexo y rama de actividad. Valores absolutos y porcentajes respecto del total de cada sexo\" file:\n",
        "# A) Extract CNAE Code from column Rama de actividad CNAE 2009 (you must regular expressions)\n",
        "cnae_codes = employment_dfs[1]['Rama de actividad CNAE 2009'].str.extract(r'(\\d+)')\n",
        "cnae_codes_list = cnae_codes[0].dropna().tolist()\n",
        "cnae_codes_list = list(set(cnae_codes_list))\n",
        "\n",
        "# B) Filter the dataframe to obtain the rows with CNAE Codes: 49, 50, 51, 52, 55, 56, 77, 79, 90, 91, 93\n",
        "desired_cnae_codes = [\"49\", \"50\", \"51\", \"52\", \"55\", \"56\", \"77\", \"79\", \"90\", \"91\", \"93\"]\n",
        "filtered_employment_abs_per = employment_dfs[1][employment_dfs[1]['Rama de actividad CNAE 2009'].str.contains('|'.join(desired_cnae_codes))]"
      ],
      "metadata": {
        "id": "VYoTYWlqPISO"
      },
      "execution_count": null,
      "outputs": []
    },
    {
      "cell_type": "code",
      "source": [
        "cnae_codes_list"
      ],
      "metadata": {
        "id": "eG_B1aROjUPu"
      },
      "execution_count": null,
      "outputs": []
    },
    {
      "cell_type": "code",
      "source": [
        "filtered_employment_abs_per"
      ],
      "metadata": {
        "id": "sb3jkcs0jVaT"
      },
      "execution_count": null,
      "outputs": []
    },
    {
      "cell_type": "code",
      "source": [
        "# From the \"Ocupados por rama de actividad, sexo y comunidad autónoma\" file:\n",
        "# A) Filter the dataframe to obtain only the rows with the following activities (Rama de actividad CNAE 2009):\n",
        "# G + H + I, M + N, R + S + T + U\n",
        "filter = [' G + H + I ', ' M + N ', ' R + S + T + U ']\n",
        "\n",
        "# Use a regular expression to extract the group codes within parentheses\n",
        "employment_dfs[0]['Group_Codes'] = employment_dfs[0]['Rama de actividad CNAE 2009'].str.extract(r'\\((.*?)\\)')\n",
        "filtered_data0 = employment_dfs[0][employment_dfs[0]['Group_Codes'].isin(filter)]\n",
        "filtered_data0"
      ],
      "metadata": {
        "id": "Qi6bSky3QS9o"
      },
      "execution_count": null,
      "outputs": []
    },
    {
      "cell_type": "markdown",
      "metadata": {
        "id": "HbwrH4dON4MH"
      },
      "source": [
        "## Milestone 3\n",
        "\n",
        "Now, we will visualize our pre-processed datasets using [Matplotlib](https://matplotlib.org/) and [Seaborn](https://seaborn.pydata.org/). You can choose one or both libraries for this milestones.  \n",
        "\n",
        "*Note that you may need to modify/reshape the dataframe to accommodate the data for the visualization part*.\n",
        "\n",
        "1. Plot a bar graph of employed people in the toursim sector by activity (CNAE codes selected above) for both sexs, in absolute values and splitted by years.\n",
        "2. Plot a bar graph of employed people in the toursim sector by year, sex and CCAA.\n",
        "3. Plot a boxplot graph containing the distribution of the number of tourists by year per CCAA.\n",
        "  "
      ]
    },
    {
      "cell_type": "code",
      "source": [
        "# 1) Plot a bar graph of employed people in the toursim sector by activity\n",
        "# for both sexs, in absolute values and splitted by years\n",
        "\n",
        "# Filter data for \"Ambos sexos\" and relevant CNAE codes\n",
        "filtered_employment_abs_per = filtered_employment_abs_per[filtered_employment_abs_per[\"Sexo\"] == \"Ambos sexos\"]\n",
        "\n",
        "# Group data by CNAE code and year, summing up employment numbers\n",
        "grouped_df = filtered_employment_abs_per.groupby([\"Rama de actividad CNAE 2009\", \"Year\"])[\"Total\"].sum().reset_index()\n",
        "\n",
        "# Extract CNAE code for cleaner x-axis labels\n",
        "grouped_df[\"CNAE Code\"] = grouped_df[\"Rama de actividad CNAE 2009\"].str.extract(r\"(\\d+)\")\n",
        "\n",
        "# Pivot data to reshape for stacking\n",
        "pivot_df = grouped_df.pivot(index=\"CNAE Code\", columns=\"Year\", values=\"Total\").fillna(0)\n",
        "\n",
        "# Define plot size and color palette\n",
        "plt.figure(figsize=(16, 10))\n",
        "colors = sns.color_palette(\"viridis\", len(pivot_df.columns))\n",
        "\n",
        "# Create the stacked bar chart\n",
        "ax = pivot_df.plot(\n",
        "    kind=\"bar\",\n",
        "    stacked=True,\n",
        "    color=colors,\n",
        "    figsize=(16, 10),\n",
        "    edgecolor=\"white\",  # Keep edges to separate stacks more clearly\n",
        "    width=0.7,\n",
        "    alpha=0.9,\n",
        ")\n",
        "\n",
        "# Customize gridlines for a clean, professional appearance\n",
        "ax.yaxis.grid(color=\"gray\", linestyle=\"--\", linewidth=0.6, alpha=0.7)\n",
        "ax.set_facecolor(\"white\")  # White background for the plot area\n",
        "plt.gcf().set_facecolor(\"white\")  # White background for the entire figure\n",
        "\n",
        "# Customize title and axis labels\n",
        "plt.title(\"Employment in Tourism Sector by Activity (CNAE Codes) and Year\",\n",
        "          fontsize=18, fontweight=\"bold\", pad=20, color=\"#333333\")\n",
        "plt.xlabel(\"Activity (CNAE Code)\", fontsize=14, labelpad=10, color=\"#4A4A4A\")\n",
        "plt.ylabel(\"Number of Employed People\", fontsize=14, labelpad=10, color=\"#4A4A4A\")\n",
        "\n",
        "# Format y-axis to show large numbers with commas\n",
        "ax.yaxis.set_major_formatter(plt.FuncFormatter(lambda x, _: f\"{int(x):,}\"))\n",
        "\n",
        "# Adjust x-axis ticks\n",
        "plt.xticks(rotation=45, ha=\"right\", fontsize=12, color=\"#4A4A4A\")\n",
        "plt.yticks(fontsize=12, color=\"#4A4A4A\")\n",
        "\n",
        "# Legend customization\n",
        "plt.legend(\n",
        "    title=\"Year\",\n",
        "    fontsize=12,\n",
        "    title_fontsize=14,\n",
        "    loc=\"upper left\",\n",
        "    bbox_to_anchor=(1.01, 1),\n",
        "    frameon=False,\n",
        ")\n",
        "\n",
        "# Add spacing for better readability\n",
        "plt.tight_layout(pad=2)\n",
        "\n",
        "# Show the plot\n",
        "plt.show()"
      ],
      "metadata": {
        "id": "zX9Y0QiS4Iki"
      },
      "execution_count": null,
      "outputs": []
    },
    {
      "cell_type": "code",
      "source": [
        "# 2) Plot a bar graph of employed people in the toursim sector by year, sex and CCAA\n",
        "\n",
        "# Filter and prepare the data\n",
        "filter_DF2 = employment_dfs[0][\n",
        "    (employment_dfs[0]['Sexo'] != \"Ambos sexos\") & (employment_dfs[0][\"CCAA\"] != \"Total Nacional\")\n",
        "]\n",
        "filter_DF2 = filter_DF2.groupby([\"CCAA\", \"Year\", \"Sexo\"])[\"Total\"].sum().reset_index()\n",
        "\n",
        "# Separate data for \"Mujeres\" and \"Hombres\"\n",
        "mujeres_data = filter_DF2[filter_DF2['Sexo'] == 'Mujeres']\n",
        "hombres_data = filter_DF2[filter_DF2['Sexo'] == 'Hombres']\n",
        "\n",
        "# Pivot data for stacked bars\n",
        "mujeres_pivot = mujeres_data.pivot(index=\"CCAA\", columns=\"Year\", values=\"Total\").fillna(0)\n",
        "hombres_pivot = hombres_data.pivot(index=\"CCAA\", columns=\"Year\", values=\"Total\").fillna(0)\n",
        "\n",
        "# Define a consistent color palette with more contrast for gender\n",
        "base_colors = sns.color_palette(\"viridis\", len(mujeres_pivot.columns))\n",
        "mujeres_colors = [sns.light_palette(c, n_colors=5)[2] for c in base_colors]  # Light, but more contrast\n",
        "hombres_colors = [sns.dark_palette(c, n_colors=5)[3] for c in base_colors]  # Darker shades\n",
        "\n",
        "# Set up the plot\n",
        "fig, ax = plt.subplots(figsize=(17, 10))\n",
        "\n",
        "# Plot bars for \"Mujeres\"\n",
        "mujeres_pivot.plot(\n",
        "    kind=\"bar\",\n",
        "    stacked=True,\n",
        "    ax=ax,\n",
        "    color=mujeres_colors,\n",
        "    position=0,\n",
        "    width=0.4,\n",
        "    edgecolor=\"white\",\n",
        "    alpha=0.85,\n",
        "    label=\"Mujeres\"\n",
        ")\n",
        "\n",
        "# Plot bars for \"Hombres\" (shifted for visibility)\n",
        "hombres_pivot.plot(\n",
        "    kind=\"bar\",\n",
        "    stacked=True,\n",
        "    ax=ax,\n",
        "    color=hombres_colors,\n",
        "    position=1,\n",
        "    width=0.4,\n",
        "    edgecolor=\"white\",\n",
        "    alpha=0.85,\n",
        "    label=\"Hombres\"\n",
        ")\n",
        "\n",
        "# Customize the plot\n",
        "plt.title(\"Employment in Tourism Sector by CCAA, Gender, and Year (Stacked)\", fontsize=16, fontweight=\"bold\", pad=20)\n",
        "plt.xlabel(\"CCAA\", fontsize=14, labelpad=10)\n",
        "plt.ylabel(\"Number of Employed People\", fontsize=14, labelpad=10)\n",
        "plt.xticks(rotation=45, ha=\"right\", fontsize=12)\n",
        "plt.yticks(fontsize=12)\n",
        "plt.grid(axis=\"y\", linestyle=\"--\", alpha=0.7)\n",
        "\n",
        "# Create custom legend with two columns and year-gender labeling\n",
        "# We need to manually create the legend to include the year and gender\n",
        "years = mujeres_pivot.columns  # Assume years are the same for both genders\n",
        "mujeres_labels = [f\"{year} - M\" for year in years]\n",
        "hombres_labels = [f\"{year} - H\" for year in years]\n",
        "\n",
        "# Combine the labels and handle into one legend\n",
        "handles_mujeres, _ = ax.get_legend_handles_labels()\n",
        "handles_hombres, _ = ax.get_legend_handles_labels()\n",
        "\n",
        "# Create a unified legend with two columns\n",
        "ax.legend(\n",
        "    handles=handles_mujeres + handles_hombres,\n",
        "    labels=mujeres_labels + hombres_labels,\n",
        "    title=\"Year & Gender\",\n",
        "    fontsize=12,\n",
        "    title_fontsize=14,\n",
        "    loc=\"upper left\",\n",
        "    bbox_to_anchor=(1.05, 1),\n",
        "    ncol=2\n",
        ")\n",
        "\n",
        "# Add spacing for better visibility\n",
        "plt.tight_layout()\n",
        "\n",
        "# Show the plot\n",
        "plt.show()\n"
      ],
      "metadata": {
        "id": "WY7Dk8TSSeQ-"
      },
      "execution_count": null,
      "outputs": []
    },
    {
      "cell_type": "code",
      "source": [
        "# Filter the data\n",
        "filtered_DF3 = tourism_dfs[0][\n",
        "    (~tourism_dfs[0][\"CCAA\"].isin([\"Total\"])) &\n",
        "    (tourism_dfs[0][\"Tipo de dato\"] == \"Dato base\")\n",
        "]\n",
        "\n",
        "# Sort CCAA for consistent ordering\n",
        "ccaa_list = sorted(filtered_DF3['CCAA'].unique(), key=str)\n",
        "\n",
        "# Set a larger figure size for better clarity\n",
        "plt.figure(figsize=(14, 10))\n",
        "\n",
        "# Create the boxplot with a custom color palette\n",
        "sns.boxplot(\n",
        "    data=filtered_DF3,\n",
        "    x='CCAA',\n",
        "    y='Total',\n",
        "    hue='Year',\n",
        "    palette='Set2',  # Use a visually pleasing color palette\n",
        "    dodge=True\n",
        ")\n",
        "\n",
        "# Add customizations for aesthetics\n",
        "plt.title('Distribution of Number of Tourists by Year and CCAA', fontsize=20, fontweight='bold', pad=20)\n",
        "plt.xlabel('CCAA (Regions)', fontsize=14, labelpad=10)\n",
        "plt.ylabel('Number of Tourists', fontsize=14, labelpad=10)\n",
        "plt.xticks(rotation=45, ha='right', fontsize=12)  # Rotate and align x-axis labels\n",
        "plt.yticks(fontsize=12)  # Increase y-axis tick size\n",
        "plt.legend(title='Year', title_fontsize=14, fontsize=12, loc='upper right', frameon=True, borderpad=1)\n",
        "plt.grid(axis='y', linestyle='--', linewidth=0.7, alpha=0.7)\n",
        "\n",
        "# Add a thousand-separator format for y-axis values\n",
        "plt.gca().get_yaxis().set_major_formatter(plt.FuncFormatter(lambda x, _: f\"{int(x):,}\"))\n",
        "\n",
        "# Add some spacing for visual clarity\n",
        "plt.tight_layout()\n",
        "\n",
        "# Display the plot\n",
        "plt.show()\n"
      ],
      "metadata": {
        "id": "qABTB2enNdcM"
      },
      "execution_count": null,
      "outputs": []
    },
    {
      "cell_type": "markdown",
      "metadata": {
        "id": "miC9yD5bN4j9"
      },
      "source": [
        "## Milestone 4\n",
        "\n",
        "1. Plot a line plot representing the variation across time of the number of turists by reason for the trip.\n",
        "2. Plot the time series of the total and average expenses by CCAA of residency for those trips within the Autonomous Community and outside (*Dentro de la Comunidad Autónoma* and *A otra Comunidad Autónoma*).\n",
        "\n",
        "*Note that you may need to modify/reshape the dataframe to accommodate the data for the visualization part*."
      ]
    },
    {
      "cell_type": "code",
      "execution_count": null,
      "metadata": {
        "id": "iCEyporw0e0u"
      },
      "outputs": [],
      "source": [
        "# 1) Plot a line plot representing the variation across time of the number of turists by reason for the trip\n",
        "\n",
        "# Take the dataset that we need for this task\n",
        "df_reason = tourism_dfs[1]\n",
        "\n",
        "# Filter the data to keep only rows where \"Tipo de dato\" is \"Tasa de variación anual\"\n",
        "df_variacion_anual = df_reason[df_reason[\"Tipo de dato\"] == \"Tasa de variación anual\"]\n",
        "\n",
        "# Group the data by Periodo and Motivo del viaje and sum the variation rates\n",
        "df_variacion_anual_por_motivo = df_variacion_anual.groupby(['Periodo', 'Motivo del viaje'])['Total'].sum().unstack()"
      ]
    },
    {
      "cell_type": "code",
      "source": [
        "# Plot\n",
        "plt.figure(figsize=(10, 6))\n",
        "df_variacion_anual_por_motivo.plot(kind='line', marker='o')\n",
        "plt.title('Annual Variation Rate of Tourist Numbers by Reason for the Trip')\n",
        "plt.xlabel('Period')\n",
        "plt.ylabel('Annual Variation Rate (%)')\n",
        "plt.legend(title='Reason for the Trip')\n",
        "plt.grid(True)\n",
        "plt.xticks(rotation=45)\n",
        "plt.tight_layout()\n",
        "plt.show()"
      ],
      "metadata": {
        "id": "b50eqSDItups"
      },
      "execution_count": null,
      "outputs": []
    },
    {
      "cell_type": "code",
      "source": [
        "# 2) Plot the time series of the total and average expenses by CCAA of residency\n",
        "# for those trips within the Autonomous Community and outside (Dentro de la Comunidad Autónoma and A otra Comunidad Autónoma)\n",
        "\n",
        "# Take the dataset \"Viajes, pernoctaciones, duración media y gasto por comunidad autónoma de residencia de los viajeros.csv\"\n",
        "data = tourism_dfs[2]\n",
        "\n",
        "# Filter relevant data: \"Dentro de la Comunidad Autónoma\", \"A otra Comunidad Autónoma\"\n",
        "filtered_data = data[\n",
        "    (data['CCAA'] != 'Total') &\n",
        "    (data['Tipo de destino'].isin(['Dentro de la Comunidad Autónoma', 'A otra Comunidad Autónoma'])) &\n",
        "    (data['Concepto turístico'] == 'Viajes') &\n",
        "    (data['Tipo de dato'] == 'Valor absoluto')]\n",
        "\n",
        "# Group data by CCAA, Periodo and Tipo de destino to compute the total and average expenses\n",
        "grouped = filtered_data.groupby(['CCAA', 'Periodo', 'Tipo de destino'])\n",
        "agg_data = grouped['Total'].agg(['sum', 'mean']).reset_index()\n",
        "\n",
        "# Divide data by \"Dentro de la Comunidad Autónoma\" and \"A otra Comunidad Autónoma\"\n",
        "dentro = agg_data[agg_data['Tipo de destino'] == 'Dentro de la Comunidad Autónoma']\n",
        "a_otra = agg_data[agg_data['Tipo de destino'] == 'A otra Comunidad Autónoma']"
      ],
      "metadata": {
        "id": "b9Lo6IYhh9xd"
      },
      "execution_count": null,
      "outputs": []
    },
    {
      "cell_type": "code",
      "source": [
        "# Plot total expenses for \"Dentro de la Comunidad Autónoma\"\n",
        "plt.figure(figsize=(14, 7))\n",
        "for ccaa in dentro['CCAA'].unique():\n",
        "    subset = dentro[dentro['CCAA'] == ccaa]\n",
        "    plt.plot(subset['Periodo'], subset['sum'], label=f'{ccaa}')\n",
        "\n",
        "plt.title('Total Expenses by CCAA and Periodo (Dentro de la Comunidad Autónoma)')\n",
        "plt.xlabel('Periodo')\n",
        "plt.ylabel('Total Expenses')\n",
        "plt.legend(bbox_to_anchor=(1.05, 1), loc='upper left', fontsize='small')\n",
        "plt.xticks(rotation=45)\n",
        "plt.tight_layout()\n",
        "plt.show()\n",
        "\n",
        "# Plot total expenses for \"A otra Comunidad Autónoma\"\n",
        "plt.figure(figsize=(14, 7))\n",
        "for ccaa in a_otra['CCAA'].unique():\n",
        "    subset = a_otra[a_otra['CCAA'] == ccaa]\n",
        "    plt.plot(subset['Periodo'], subset['sum'], label=f'{ccaa}')\n",
        "\n",
        "plt.title('Total Expenses by CCAA and Periodo (A otra Comunidad Autónoma)')\n",
        "plt.xlabel('Periodo')\n",
        "plt.ylabel('Total Expenses')\n",
        "plt.legend(bbox_to_anchor=(1.05, 1), loc='upper left', fontsize='small')\n",
        "plt.xticks(rotation=45)\n",
        "plt.tight_layout()\n",
        "plt.show()\n",
        "\n",
        "# Plot average expenses for \"Dentro de la Comunidad Autónoma\"\n",
        "plt.figure(figsize=(14, 7))\n",
        "for ccaa in dentro['CCAA'].unique():\n",
        "    subset = dentro[dentro['CCAA'] == ccaa]\n",
        "    plt.plot(subset['Periodo'], subset['mean'], label=f'{ccaa}')\n",
        "\n",
        "plt.title('Average Expenses by CCAA and Periodo (Dentro de la Comunidad Autónoma)')\n",
        "plt.xlabel('Periodo')\n",
        "plt.ylabel('Average Expenses')\n",
        "plt.legend(bbox_to_anchor=(1.05, 1), loc='upper left', fontsize='small')\n",
        "plt.xticks(rotation=45)\n",
        "plt.tight_layout()\n",
        "plt.show()\n",
        "\n",
        "# Plot average expenses for \"A otra Comunidad Autónoma\"\n",
        "plt.figure(figsize=(14, 7))\n",
        "for ccaa in a_otra['CCAA'].unique():\n",
        "    subset = a_otra[a_otra['CCAA'] == ccaa]\n",
        "    plt.plot(subset['Periodo'], subset['mean'], label=f'{ccaa}')\n",
        "\n",
        "plt.title('Average Expenses by CCAA and Periodo (A otra Comunidad Autónoma)')\n",
        "plt.xlabel('Periodo')\n",
        "plt.ylabel('Average Expenses')\n",
        "plt.legend(bbox_to_anchor=(1.05, 1), loc='upper left', fontsize='small')\n",
        "plt.xticks(rotation=45)\n",
        "plt.tight_layout()\n",
        "plt.show()"
      ],
      "metadata": {
        "id": "ZeWVOViUqGRI"
      },
      "execution_count": null,
      "outputs": []
    },
    {
      "cell_type": "markdown",
      "metadata": {
        "id": "HJUB5qeXN4rB"
      },
      "source": [
        "## Milestone 5\n",
        "\n",
        "1. Create an interactive map with information about the number of trips, the average duration of the trips, and expenses by CCAA of residency in the year 2021. It must be a choropleth map based on the number of trips.\n",
        "\n",
        "For this milestone, you need to create a map using the [Folium](https://python-visualization.github.io/folium/) library. You also need to download the boundaries (GeoJson) of the Spanish CCAAs. There are many resources where you can find this information, one of them is [opendatasoft](https://public.opendatasoft.com/explore/?sort=modified).\n",
        "\n",
        "*Note that you may need to modify/reshape the dataframe to accommodate the data for the visualization part*."
      ]
    },
    {
      "cell_type": "markdown",
      "source": [
        "Link to download geoJson (from open data soft)\n",
        "[Download GeoJson](https://public.opendatasoft.com/explore/dataset/georef-spain-comunidad-autonoma/export/?disjunctive.acom_code&disjunctive.acom_name&location=5,36.1275,-6.9165&basemap=jawg.light)"
      ],
      "metadata": {
        "id": "JPoTAFtOCjb0"
      }
    },
    {
      "cell_type": "code",
      "source": [
        "import folium\n",
        "import json\n",
        "\n",
        "# Load GeoJSON data\n",
        "geojson_url = \"/content/drive/My Drive/georef-spain-comunidad-autonoma.geojson\"\n",
        "with open(geojson_url) as f:\n",
        "  geojson_ccaa = json.load(f)"
      ],
      "metadata": {
        "id": "J-pcL1wEZtwl"
      },
      "execution_count": null,
      "outputs": []
    },
    {
      "cell_type": "code",
      "source": [
        "trips_data = tourism_dfs[3]\n",
        "filtered_df = trips_data[trips_data[\"Year\"] == 2021]\n",
        "filtered_df = filtered_df[\n",
        "    (\n",
        "    (filtered_df[\"Concepto turístico\"] == \"Viajes\") |\n",
        "     (filtered_df[\"Concepto turístico\"] == \"Duración media de los viajes\") |\n",
        "      (filtered_df[\"Concepto turístico\"] == \"Gasto total\")\n",
        "    ) & (filtered_df[\"Tipo de dato\"] == \"Valor absoluto\")\n",
        "    & (filtered_df[\"CCAA\"] != \"Total\")]"
      ],
      "metadata": {
        "id": "l1GBzY1sc9xv"
      },
      "execution_count": null,
      "outputs": []
    },
    {
      "cell_type": "code",
      "source": [
        "# \"Viajes\"\n",
        "trips_data = filtered_df[filtered_df[\"Concepto turístico\"] == \"Viajes\"].groupby(\"CCAA\").agg({\"Total\": \"sum\"}).reset_index()\n",
        "trips_data.rename(columns={\"Total\": \"Trips\"}, inplace=True)\n",
        "\n",
        "# \"Gasto total\"\n",
        "expense_data = filtered_df[filtered_df[\"Concepto turístico\"] == \"Gasto total\"].groupby(\"CCAA\").agg({\"Total\": \"sum\"}).reset_index()\n",
        "expense_data.rename(columns={\"Total\": \"Expenses\"}, inplace=True)\n",
        "\n",
        "# \"Duración media de los viajes\"\n",
        "duration_data = filtered_df[filtered_df[\"Concepto turístico\"] == \"Duración media de los viajes\"].groupby(\"CCAA\").agg({\"Total\": \"mean\"}).reset_index()\n",
        "duration_data.rename(columns={\"Total\": \"AvgDuration\"}, inplace=True)\n",
        "\n",
        "merged_data = pd.merge(trips_data, expense_data, on=\"CCAA\")\n",
        "merged_data = pd.merge(merged_data, duration_data, on=\"CCAA\")\n",
        "\n",
        "merged_data"
      ],
      "metadata": {
        "id": "_YzX3qC0iBPQ"
      },
      "execution_count": null,
      "outputs": []
    },
    {
      "cell_type": "code",
      "source": [
        "print(merged_data[\"CCAA\"].unique())\n",
        "print()\n",
        "print([feature[\"properties\"][\"acom_name\"] for feature in geojson_ccaa[\"features\"]])"
      ],
      "metadata": {
        "id": "34YESVIiI5gZ"
      },
      "execution_count": null,
      "outputs": []
    },
    {
      "cell_type": "markdown",
      "source": [
        "When trying to plot the map at a first instance, we got some errors with respect to the communities. The names of CCAA in the dataset and the GeoJSON file did not exactly match. The dataset uses a mix of different formats (01 Andalucía) and some of them have different wording (08 Castilla - La Mancha(dataset) vs. Castilla-La Mancha (GeoJSON)).\n",
        "\n",
        "To ensure a better alignment between the dataset and GeoJSON data, we created a mapping dictionary to map the dataset's CCAA names to their corresponding names in the GeoJSON file.\n"
      ],
      "metadata": {
        "id": "Ar3X3hvNu7pe"
      }
    },
    {
      "cell_type": "code",
      "source": [
        "name_mapping = {\n",
        "    \"01 Andalucía\": \"Andalucía\",\n",
        "    \"02 Aragón\": \"Aragón\",\n",
        "    \"03 Asturias, Principado de\": \"Principado de Asturias\",\n",
        "    \"04 Balears, Illes\": \"Illes Balears\",\n",
        "    \"05 Canarias\": \"Canarias\",\n",
        "    \"06 Cantabria\": \"Cantabria\",\n",
        "    \"07 Castilla y León\": \"Castilla y León\",\n",
        "    \"08 Castilla - La Mancha\": \"Castilla-La Mancha\",\n",
        "    \"09 Cataluña\": \"Cataluña\",\n",
        "    \"10 Comunitat Valenciana\": \"Comunitat Valenciana\",\n",
        "    \"11 Extremadura\": \"Extremadura\",\n",
        "    \"12 Galicia\": \"Galicia\",\n",
        "    \"13 Madrid, Comunidad de\": \"Comunidad de Madrid\",\n",
        "    \"14 Murcia, Región de\": \"Región de Murcia\",\n",
        "    \"15 Navarra, Comunidad Foral de\": \"Comunidad Foral de Navarra\",\n",
        "    \"16 País Vasco\": \"País Vasco\",\n",
        "    \"17 Rioja, La\": \"La Rioja\",\n",
        "    \"18 Ceuta\": \"Ciudad Autónoma de Ceuta\",\n",
        "    \"19 Melilla\": \"Ciudad Autónoma de Melilla\"\n",
        "}\n",
        "\n",
        "merged_data[\"CCAA\"] = merged_data[\"CCAA\"].replace(name_mapping)\n",
        "merged_data[\"CCAA\"]"
      ],
      "metadata": {
        "id": "jo41vMnwu8NP"
      },
      "execution_count": null,
      "outputs": []
    },
    {
      "cell_type": "code",
      "source": [
        "m = folium.Map(location=[40.0, -4], zoom_start=5)\n",
        "\n",
        "choropleth = folium.Choropleth(\n",
        "    geo_data=geojson_ccaa,\n",
        "    name=\"choropleth\",\n",
        "    data=merged_data,\n",
        "    columns=[\"CCAA\", \"Trips\"],\n",
        "    key_on=\"feature.properties.acom_name\",\n",
        "    fill_color=\"YlGn\",\n",
        "    fill_opacity=0.7,\n",
        "    line_opacity=0.2,\n",
        "    legend_name=\"Number of Trips (2021)\",\n",
        ").add_to(m)\n",
        "\n",
        "def style_function(feature):\n",
        "    CCAA = feature[\"properties\"][\"acom_name\"]\n",
        "    row = merged_data[merged_data[\"CCAA\"] == CCAA]\n",
        "    if not row.empty:\n",
        "        trips = row.iloc[0][\"Trips\"]\n",
        "        expenses = row.iloc[0][\"Expenses\"]\n",
        "        avg_duration = row.iloc[0][\"AvgDuration\"]\n",
        "        tooltip = (\n",
        "            f\"<b>{CCAA}</b><br>\"\n",
        "            f\"Trips: {trips:,.0f}<br>\"\n",
        "            f\"Expenses: €{expenses:,.2f}<br>\"\n",
        "            f\"Avg Duration: {avg_duration:.2f} days\"\n",
        "        )\n",
        "    else:\n",
        "        tooltip = f\"<b>{CCAA}</b><br>No data available\"\n",
        "    return {\n",
        "        \"fillColor\": \"transparent\",\n",
        "        \"color\": \"transparent\",\n",
        "        \"tooltip\": tooltip,\n",
        "    }\n",
        "\n",
        "folium.GeoJson(\n",
        "    geojson_ccaa,\n",
        "    style_function=style_function,\n",
        ").add_to(m)\n",
        "\n",
        "m"
      ],
      "metadata": {
        "id": "rBhede_CkKpU"
      },
      "execution_count": null,
      "outputs": []
    },
    {
      "cell_type": "markdown",
      "metadata": {
        "id": "TaG06EP-N4z6"
      },
      "source": [
        "## Milestone 6\n",
        "\n",
        "** **This milestone does not count for grade.** **\n",
        "\n",
        "Save and store the datasets processed for use them in  Lab2: Google Data Studio.\n"
      ]
    },
    {
      "cell_type": "code",
      "execution_count": null,
      "metadata": {
        "id": "CTlr1-skzPux"
      },
      "outputs": [],
      "source": [
        "def save_datasets(dfs, file_names):\n",
        "    for df, file_name in zip(dfs, file_names):\n",
        "        df.to_csv(file_name, index=False, encoding='utf-8', sep=\",\")"
      ]
    },
    {
      "cell_type": "code",
      "source": [
        "tourism_file_names = [\n",
        "    \"Número de turistas según comunidad autónoma de destino principal.csv\",\n",
        "    \"Número de turistas según motivo principal del viaje.csv\",\n",
        "    \"Viajes con destino principal interno, pernoctaciones, duración media y gasto por tipo de destino principal, según comunidad autónoma de residencia de los viajeros.csv\",\n",
        "    \"Viajes, pernoctaciones, duración media y gasto por comunidad autónoma de residencia de los viajeros.csv\"\n",
        "]\n",
        "\n",
        "employment_file_names = [\n",
        "    \"Ocupados por rama de actividad, sexo y comunidad autónoma.csv\",\n",
        "    \"Ocupados por sexo y rama de actividad. Valores absolutos y porcentajes respecto del total de cada sexo.csv\",\n",
        "]\n",
        "\n",
        "save_datasets(tourism_dfs, tourism_file_names)\n",
        "save_datasets(employment_dfs, employment_file_names)"
      ],
      "metadata": {
        "id": "wQ1jP0O1SwW4"
      },
      "execution_count": null,
      "outputs": []
    },
    {
      "cell_type": "markdown",
      "metadata": {
        "id": "jIX16NZDAP_i"
      },
      "source": [
        "# Lab2: Google Data Studio\n"
      ]
    },
    {
      "cell_type": "markdown",
      "metadata": {
        "id": "_SpMHr0HOGsk"
      },
      "source": [
        "## 0. Lab Preparation\n",
        "\n",
        "1.  Study and have clear the concepts explained in the theoretical class and the introductory lab.\n",
        "\n",
        "2.   Gain experience with the use of [Google Data Studio](https://datastudio.google.com/). The goals of this lab will be mainly based on the utilization of this tool to create a dashboard.\n"
      ]
    },
    {
      "cell_type": "markdown",
      "metadata": {
        "id": "mPNPbqvROnqC"
      },
      "source": [
        "## 1. Lab Introduction\n",
        "\n",
        "* In this lab, we will use the dataset of the previous lab for visualization using [Google Data Studio](https://datastudio.google.com/).\n",
        "\n",
        "* The lab will be done in groups of 2 people.\n",
        "\n",
        "* The lab defines a set of guidelines the students must acomplish.\n",
        "\n",
        "* **The grade will depend directly on the final result of your dashboard. Make it as visual as possible!**\n",
        "\n",
        "* **Each group should also share their dashboard with the professor upon the finalization of the lab.**\n"
      ]
    },
    {
      "cell_type": "markdown",
      "metadata": {
        "id": "RQ_0biqHQgZ9"
      },
      "source": [
        "## 2. Lab guidelines\n",
        "\n",
        "For this practice, you have to use **Google Data Studio**. The style to use is free. The clearer and more visual your dashboard is, the better will be the grade.\n",
        "\n",
        "Your dashboard must have at least the following elements:\n",
        "\n",
        "1. A highlight box with total results.\n",
        "2. A chart with a time series.\n",
        "3. A pie chart.\n",
        "4. A bar chart.\n",
        "5. A table summarizing results.\n",
        "6. A map that represents the data by CCAAs.\n",
        "\n",
        "As you can see, the instructions are open-ended. You just have to represent the data in a meaningful way.\n",
        "You will see that the processing we have done in the first lab is helpful for this part. In case you need to do some extra processing or modification of the data, you must do it in Python in this notebook, and it must be reflected and explained here.\n",
        "\n",
        "\n",
        "---\n",
        "\n",
        "\n",
        "\n",
        "To upload your dashboard to AG, click on Share -> Download as PDF -> Add a link back to the report. That will generate a PDF that you have to upload to AG.\n",
        "\n",
        "Apart from that, for those taking the course remotely, I need you to invite me to your Data Studio project. (Share -> Invite people -> Add people), and to send a word document explaining how you build the dashboard."
      ]
    },
    {
      "cell_type": "markdown",
      "source": [
        "When we tried to plot the CCAA variable, some were not included maybe because of the formatting that combined number and name (01 Anadalucia...).\n",
        "\n",
        "Because of this, we took advantage of the mapping defined in **Mileston 5** and applied it to one of the datasets."
      ],
      "metadata": {
        "id": "kW5KAQJBRYJy"
      }
    },
    {
      "cell_type": "code",
      "source": [
        "tourism_dfs[2][\"CCAA\"] = tourism_dfs[2][\"CCAA\"].replace(name_mapping)\n",
        "tourism_dfs[2][\"CCAA\"].unique()"
      ],
      "metadata": {
        "id": "ybmAOt71Dk5u"
      },
      "execution_count": null,
      "outputs": []
    },
    {
      "cell_type": "code",
      "source": [
        "save_datasets(tourism_dfs, tourism_file_names)"
      ],
      "metadata": {
        "id": "5LkYadDlFyYv"
      },
      "execution_count": null,
      "outputs": []
    }
  ],
  "metadata": {
    "colab": {
      "provenance": [],
      "collapsed_sections": [
        "x-sNYy2lNu0U"
      ]
    },
    "kernelspec": {
      "display_name": "Python 3",
      "name": "python3"
    },
    "language_info": {
      "name": "python"
    }
  },
  "nbformat": 4,
  "nbformat_minor": 0
}