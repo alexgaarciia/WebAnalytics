{
  "cells": [
    {
      "cell_type": "markdown",
      "metadata": {
        "id": "6n0z8mcBUFWY"
      },
      "source": [
        "<img src=\"https://www.uc3m.es/ss/Satellite?blobcol=urldata&blobkey=id&blobtable=MungoBlobs&blobwhere=1371573952659\">\n",
        "\n",
        "---\n",
        "\n",
        "# WEB ANALYTICS COURSE 4 - SEMESTER 2\n",
        "# BACHELOR IN DATA SCIENCE AND ENGINEERING\n",
        "\n",
        "# LAB 1.3 WEB SCRAPING WITH SELENIUM\n",
        "\n",
        "---"
      ]
    },
    {
      "cell_type": "markdown",
      "metadata": {
        "id": "N7uuXiBCFooY"
      },
      "source": [
        "## Group Members\n",
        "* Ángela María Durán Pinto: 100472766\n",
        "* Alejandro Leonardo García Navarro: 100472710\n",
        "* Melania Guerra Ulloa: 100457522\n",
        "* Francisco Javier Molina Tirado: 100456560\n",
        "\n"
      ]
    },
    {
      "cell_type": "markdown",
      "metadata": {
        "id": "vS1O4BW82LV6"
      },
      "source": [
        "# 0. Lab Preparation\n",
        "\n",
        "1.  Study and have clear the concepts explained in the theoretical class and the introductory lab.\n",
        "\n",
        "2.   Gain experience with the use of the [Selenium](https://https://www.selenium.dev/). The exercises of this lab will be mainly based on the utilization of functions offered by this library.\n",
        "\n",
        "3. It is assumed students have experience in using Python notebooks. Either a local installation (e.g., local python installation + Jupyter) or a cloud-based solution (e.g., Google Colab). *We recommend the second option*."
      ]
    },
    {
      "cell_type": "markdown",
      "metadata": {
        "id": "nwlGXDUG2db2"
      },
      "source": [
        "# 1. Lab Introduction"
      ]
    },
    {
      "cell_type": "markdown",
      "metadata": {
        "id": "ypNv8Fpi2YS7"
      },
      "source": [
        "* In this lab, we will implement a web scraper using [Selenium](https://https://www.selenium.dev/). One of the tools explained in the theoretical class.\n",
        "\n",
        "* The lab will be done in groups of 4 people.\n",
        "\n",
        "* The lab defines a set of milestones the students must complete. Upon completing all the milestones, students should call the professor, who will check the correctness of the solution (*If the professor is busy, do not wait for them, move to the next lab*).\n",
        "\n",
        "* **The final mark will be computed as a function of the number of milestones successfully completed.**\n",
        "\n",
        "* **Each group should also share their lab notebook with the professor upon the finalization of the lab.**\n",
        "\n",
        "* In this lab we will use the [Selenium](https://https://www.selenium.dev/) library for the creation of a web scraper, to extract information from the web. As indicated in the *Lab Preparation* section above, it is expected that students have gained experience in the use of the library before starting the first session of the lab.\n",
        "\n",
        "- It is recommended to use [Google Colab](https://colab.research.google.com/) to produce the Python notebook with the solution of the lab. Of course, if any student prefers using its local programming environment (e.g., jupyter) and python installation, they are welcome to do so."
      ]
    },
    {
      "cell_type": "code",
      "execution_count": null,
      "metadata": {
        "collapsed": true,
        "id": "3teIPraMwf4t"
      },
      "outputs": [],
      "source": [
        "!apt-get update\n",
        "!apt-get install -y chromium-chromedriver\n",
        "!pip install selenium"
      ]
    },
    {
      "cell_type": "markdown",
      "metadata": {
        "id": "h6Apdrzn2s18"
      },
      "source": [
        "# MILESTONE 1\n",
        "\n",
        "a) Access to the website [BACHELOR IN DATA SCIENCE AND ENGINEERING\n",
        "](https://www.uc3m.es/bachelor-degree/data-science)\n",
        "\n",
        "b) Find the element tag with `id=\"program\"` and print the result\n",
        "\n",
        "c) Find the table inside PROGRAM for Course 1 - Semester 1 and print the result\n"
      ]
    },
    {
      "cell_type": "code",
      "execution_count": null,
      "metadata": {
        "id": "KoiDgC1yM-gF"
      },
      "outputs": [],
      "source": [
        "# set options to be headless\n",
        "from selenium import webdriver\n",
        "from selenium.webdriver.common.by import By\n",
        "import time\n",
        "\n",
        "options = webdriver.ChromeOptions()\n",
        "options.add_argument('--headless')\n",
        "options.add_argument('--no-sandbox')\n",
        "options.add_argument('--disable-dev-shm-usage')\n",
        "\n",
        "# open it, go to a website, and get results\n",
        "driver = webdriver.Chrome(options=options)"
      ]
    },
    {
      "cell_type": "code",
      "execution_count": null,
      "metadata": {
        "id": "YmJMtH2vXYog"
      },
      "outputs": [],
      "source": [
        "## A) Access to the website BACHELOR IN DATA SCIENCE AND ENGINEERING\n",
        "url = \"https://www.uc3m.es/bachelor-degree/data-science\"\n",
        "driver.get(url) # 'get' is used to take an action on browser: navigate to the web page"
      ]
    },
    {
      "cell_type": "code",
      "execution_count": null,
      "metadata": {
        "id": "Z6b9rTvwWWZI"
      },
      "outputs": [],
      "source": [
        "## B) Find the element tag with id=\"program\" and print the result\n",
        "item = driver.find_element(By.ID, \"program\")\n",
        "print('The element with id \"program\" is:', item)\n",
        "print('The text of the element is:', item.text)"
      ]
    },
    {
      "cell_type": "code",
      "execution_count": null,
      "metadata": {
        "id": "F92TWUUzW1FA"
      },
      "outputs": [],
      "source": [
        "## C) Find the table inside PROGRAM for Course 1 - Semester 1 and print the result\n",
        "semester_table = driver.find_element(By.XPATH, \"//h3[contains(text(), 'Year 1 - Semester 1')]/following-sibling::table\").get_attribute('outerHTML')\n",
        "print(semester_table)"
      ]
    },
    {
      "cell_type": "markdown",
      "metadata": {
        "id": "y_FDSKQs25eV"
      },
      "source": [
        "# MILESTONE 2\n",
        "\n",
        "a) Obtain the link to Web Analytics course by finding the corresponding element in the source code.\n",
        "\n",
        "b) Access to this URL by clicking in the link.\n",
        "\n",
        "c) Print the text inside the _Learning activities and methodology_ section."
      ]
    },
    {
      "cell_type": "code",
      "execution_count": null,
      "metadata": {
        "id": "MaPDvMAZaeNh"
      },
      "outputs": [],
      "source": [
        "## A) Obtain the link to Web Analytics course by finding the corresponding element in the source code\n",
        "# Access the program of the course (item is defined in Milestone 1)\n",
        "item.click()\n",
        "\n",
        "# Obtain the link\n",
        "wa_container = driver.find_element(By.XPATH, \"//*[contains(text(), 'Web Analytics')]/parent::a\")\n",
        "link = wa_container.get_attribute('href')\n",
        "print(link)"
      ]
    },
    {
      "cell_type": "code",
      "execution_count": null,
      "metadata": {
        "id": "3lSAhVivip3R"
      },
      "outputs": [],
      "source": [
        "## B) Access the URL by clicking the link\n",
        "print('Url before:', driver.current_url)\n",
        "wa_container.click()\n",
        "print('Url after:', driver.current_url)"
      ]
    },
    {
      "cell_type": "code",
      "execution_count": null,
      "metadata": {
        "id": "ugBaLJ2RcvT5"
      },
      "outputs": [],
      "source": [
        "## C) Print the text inside the \"Learning activities and methodology\" section\n",
        "learning_container = driver.find_element(By.XPATH, \"//*[contains(text(), 'Learning activities and methodology')]\")\n",
        "section = learning_container.find_element(By.XPATH, \"following-sibling::*\")\n",
        "print(section.text)"
      ]
    },
    {
      "cell_type": "code",
      "execution_count": null,
      "metadata": {
        "id": "-kc6McOLXa-C"
      },
      "outputs": [],
      "source": [
        "driver.quit()"
      ]
    },
    {
      "cell_type": "markdown",
      "metadata": {
        "id": "CyZCe1gYam13"
      },
      "source": [
        "# MILESTONE 3\n",
        "\n",
        "Now let's build the first steps for a price monitoring website. For that, we are going to use yamovil.com to obtain car prices. Specifically, we want to find SEAT cars in Madrid and the price of each of them.\n",
        "\n",
        "Follow these steps:\n",
        "\n",
        "a) Check https://www.yamovil.es/robots.txt and see if the site can be crawled or not for our specific search. Explain.\n",
        "\n",
        "b) If yes, use this [URL](https://www.yamovil.es/coches-segunda-mano/seat-ocasion-en-madrid) which already includes the indicated search (SEAT Cars Madrid Second Hand), print the cookies banner text and accept the cookies by clicking on the accept button.\n",
        "\n",
        "c) Scrape the HTML using _Selenium_, and print the **mark**, **model**, **version** and **price** of each available car.\n",
        "\n",
        "d) Click on the last car, print the new url where you have navigated to and print the location of the car (\"este coche se encuentra en ...\").\n",
        "\n",
        "**HINT**: do not forget to quit the driver at the end of your code with `driver.quit()`"
      ]
    },
    {
      "cell_type": "markdown",
      "metadata": {
        "id": "KaeJgi6Prd6F"
      },
      "source": [
        "**A) Check that scraping is allowed**\n",
        "\n",
        "Yes, scraping SEAT car prices in Madrid is allowed because the path is not explicitly blocked.\n",
        "\n",
        "The robots.txt file disallows specific paths like admin pages and blog content. For example, the /sobre-coches-y-concesionarios/ path, which includes articles, categories, and author pages related to a blog about cars and dealerships, is blocked. This content is not relevant to car sales.\n",
        "\n",
        "However, the /coches-segunda-mano/ path, where the car listings are located, is not blocked.\n",
        "\n",
        "Since there is no explicit restriction for this URL, crawling is allowed according to the rules in robots.txt."
      ]
    },
    {
      "cell_type": "code",
      "execution_count": null,
      "metadata": {
        "collapsed": true,
        "id": "yMMiET8RbfCT"
      },
      "outputs": [],
      "source": [
        "## B) If yes, use this URL which already includes the indicated search (SEAT Cars Madrid Second Hand),\n",
        "# print the cookies banner text and accept the cookies by clicking on the accept button\n",
        "driver = webdriver.Chrome(options=options)\n",
        "url = \"https://www.yamovil.es/coches-segunda-mano/seat-ocasion-en-madrid\"\n",
        "driver.get(url)"
      ]
    },
    {
      "cell_type": "code",
      "execution_count": null,
      "metadata": {
        "id": "Pm3EpZrZwZmc"
      },
      "outputs": [],
      "source": [
        "import textwrap\n",
        "# Find the cookies banner text\n",
        "cookies_banner = driver.find_element(By.ID, \"CybotCookiebotDialogBodyContentText\")\n",
        "\n",
        "# Format the text to wrap at 130 characters per line\n",
        "formatted_text = textwrap.fill(cookies_banner.text, width=130)\n",
        "print(\"Cookies Banner Text:\\n\", formatted_text)\n",
        "\n",
        "# Locate the accept button\n",
        "button = driver.find_element(By.XPATH, '//button[contains(text(), \"Permitir todas\")]')\n",
        "button.click()  # Click to accept cookies\n",
        "\n",
        "print(\"\\nCookies accepted successfully\")"
      ]
    },
    {
      "cell_type": "code",
      "execution_count": null,
      "metadata": {
        "id": "0JmZv21_qRdq"
      },
      "outputs": [],
      "source": [
        "## C) Print mark, model, version and price of each available car\n",
        "# Find all vehicle items\n",
        "vehicles_list = driver.find_elements(By.CLASS_NAME, \"vehicle-list__item\")\n",
        "\n",
        "print(\"SEAT Cars Madrid Second Hand:\")\n",
        "for i, vehicle in enumerate(vehicles_list):\n",
        "  # For each vehicle extract the elements\n",
        "  mark = vehicle.find_element(By.CLASS_NAME, \"make\").get_attribute('innerText')\n",
        "  model = vehicle.find_element(By.CLASS_NAME, \"model\").get_attribute('innerText')\n",
        "  version = vehicle.find_element(By.CLASS_NAME, \"version\").get_attribute('innerText')\n",
        "  price = vehicle.find_element(By.CLASS_NAME, \"price\").get_attribute('innerText')\n",
        "\n",
        "  # Print the extracted information\n",
        "  print(f\"Vehicle {i+1}:\")\n",
        "  print(f\"Mark    : {mark} \\nModel:   {model}\")\n",
        "  print(f\"Version : {version} \\nPrice     : {price}\")\n",
        "  print(\"-\" * 40)"
      ]
    },
    {
      "cell_type": "markdown",
      "metadata": {
        "id": "SrNFbUXftrU1"
      },
      "source": [
        ".text is not working and it could be because:\n",
        "- The text is in nested tags like <span>, and .text may not capture all content accurately.\n",
        "- It only retrieves text from visible elements, so if the text is nested or styled to be hidden, it won't appear.\n",
        "\n",
        "Therefore, instead of .text we are using *get_attribute('innerText')*, which retrieves the raw text content regardless of visibility or structure, ensuring it captures all the text within an element, including nested spans."
      ]
    },
    {
      "cell_type": "code",
      "execution_count": null,
      "metadata": {
        "id": "Wvks0OHozL-I"
      },
      "outputs": [],
      "source": [
        "## D) Click on the last car, print the new url where you have navigated to and\n",
        "## print the location of the car (\"este coche se encuentra en ...\")\n",
        "# Get the last vehicle card\n",
        "last_vehicle = vehicles_list[-1]\n",
        "\n",
        "# Locate the link for the vehicle, which is an <a> element inside the vehicle item\n",
        "vehicle_link = last_vehicle.find_element(By.CLASS_NAME, \"vehicle-card\").find_element(By.TAG_NAME, \"a\")\n",
        "\n",
        "# Click the link\n",
        "vehicle_link.click()\n",
        "\n",
        "# Print the new URL where we have navigated to\n",
        "print(\"The new url is:\", driver.current_url)\n",
        "\n",
        "# Extract location\n",
        "# Find the span element next to the <i> element which contains the text \"Este coche se encuentra en\"\n",
        "location = driver.find_element(By.XPATH, \"//i[contains(@class, 'fal fa-map-marker-alt')]/following-sibling::span\")\n",
        "print(\"Este coche se encuentra en:\", location.text)"
      ]
    },
    {
      "cell_type": "code",
      "source": [
        "driver.quit()"
      ],
      "metadata": {
        "id": "Y_F_zAt-YEnF"
      },
      "execution_count": null,
      "outputs": []
    }
  ],
  "metadata": {
    "colab": {
      "provenance": []
    },
    "kernelspec": {
      "display_name": "Python 3",
      "name": "python3"
    },
    "language_info": {
      "name": "python"
    }
  },
  "nbformat": 4,
  "nbformat_minor": 0
}