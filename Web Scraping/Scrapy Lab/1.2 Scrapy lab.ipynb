{
  "nbformat": 4,
  "nbformat_minor": 0,
  "metadata": {
    "colab": {
      "provenance": [],
      "collapsed_sections": [
        "nwlGXDUG2db2"
      ]
    },
    "kernelspec": {
      "name": "python3",
      "display_name": "Python 3"
    },
    "language_info": {
      "name": "python"
    }
  },
  "cells": [
    {
      "cell_type": "markdown",
      "metadata": {
        "id": "XjqGtEqMUB2O"
      },
      "source": [
        "<img src=\"https://www.uc3m.es/ss/Satellite?blobcol=urldata&blobkey=id&blobtable=MungoBlobs&blobwhere=1371573952659\">\n",
        "\n",
        "---\n",
        "\n",
        "# WEB ANALYTICS COURSE 4 - SEMESTER 2\n",
        "# BACHELOR IN DATA SCIENCE AND ENGINEERING\n",
        "\n",
        "# LAB 1.2 WEB SCRAPING WITH SCRAPY\n",
        "\n",
        "\n",
        "---"
      ]
    },
    {
      "cell_type": "markdown",
      "source": [
        "## Group Members\n",
        "* Ángela María Durán Pinto: 100472766\n",
        "* Alejandro Leonardo García Navarro: 100472710\n",
        "* Melania Guerra Ulloa: 100457522\n",
        "* Francisco Javier Molina Tirado: 100456560"
      ],
      "metadata": {
        "id": "NjeRS5MbJvtB"
      }
    },
    {
      "cell_type": "markdown",
      "metadata": {
        "id": "vS1O4BW82LV6"
      },
      "source": [
        "# 0. Lab Preparation\n",
        "\n",
        "1.  Study and have clear the concepts explained in the theoretical class and the introductory lab.\n",
        "\n",
        "2.   Gain experience with the use of the [Scrapy](https://scrapy.org/). The exercises of this lab will be mainly based on the utilization of functions offered by this library.\n",
        "\n",
        "3. It is assumed students have experience in using Python notebooks. Either a local installation (e.g., local python installation + Jupyter) or a cloud-based solution (e.g., Google Colab). *We recommend the second option*."
      ]
    },
    {
      "cell_type": "markdown",
      "metadata": {
        "id": "nwlGXDUG2db2"
      },
      "source": [
        "# 1. Lab Introduction"
      ]
    },
    {
      "cell_type": "markdown",
      "metadata": {
        "id": "ypNv8Fpi2YS7"
      },
      "source": [
        "* In this lab, we will implement a web scraper using [Scrapy](https://scrapy.org/). One of the tools explained in the theoretical class.\n",
        "\n",
        "* The lab will be done in groups of 4 people.\n",
        "\n",
        "* The lab defines a set of milestones the students must complete. Upon completing all the milestones, students should call the professor, who will check the correctness of the solution (*If the professor is busy, do not wait for them, move to the next lab*).\n",
        "\n",
        "* **The final mark will be computed as a function of the number of milestones successfully completed.**\n",
        "\n",
        "* **Each group should also share their lab notebook with the professor upon the finalization of the lab.**\n",
        "\n",
        "* In this lab we will use the [Scrapy](https://scrapy.org/) library for the creation of a web scraper, to extract information from the web. As indicated in the *Lab Preparation* section above, it is expected that students have gained experience in the use of the library before starting the first session of the lab.\n",
        "\n",
        "- It is recommended to use [Google Colab](https://colab.research.google.com/) to produce the Python notebook with the solution of the lab. Of course, if any student prefers using its local programming environment (e.g., jupyter) and python installation, they are welcome to do so."
      ]
    },
    {
      "cell_type": "code",
      "metadata": {
        "id": "lnIUv5WsKSfJ",
        "collapsed": true,
        "colab": {
          "base_uri": "https://localhost:8080/"
        },
        "outputId": "64c65f3e-a7cc-4364-c0be-834aa71c0a32"
      },
      "source": [
        "!pip install scrapy"
      ],
      "execution_count": 1,
      "outputs": [
        {
          "output_type": "stream",
          "name": "stdout",
          "text": [
            "Requirement already satisfied: idna in /usr/local/lib/python3.10/dist-packages (from tldextract->scrapy) (3.10)\n",
            "Requirement already satisfied: requests>=2.1.0 in /usr/local/lib/python3.10/dist-packages (from tldextract->scrapy) (2.32.3)\n",
            "Collecting requests-file>=1.4 (from tldextract->scrapy)\n",
            "  Downloading requests_file-2.1.0-py2.py3-none-any.whl.metadata (1.7 kB)\n",
            "Requirement already satisfied: filelock>=3.0.8 in /usr/local/lib/python3.10/dist-packages (from tldextract->scrapy) (3.16.1)\n",
            "Requirement already satisfied: pycparser in /usr/local/lib/python3.10/dist-packages (from cffi>=1.12->cryptography>=36.0.0->scrapy) (2.22)\n",
            "Requirement already satisfied: tomli in /usr/local/lib/python3.10/dist-packages (from incremental>=24.7.0->Twisted>=18.9.0->scrapy) (2.0.1)\n",
            "Requirement already satisfied: charset-normalizer<4,>=2 in /usr/local/lib/python3.10/dist-packages (from requests>=2.1.0->tldextract->scrapy) (3.3.2)\n",
            "Requirement already satisfied: urllib3<3,>=1.21.1 in /usr/local/lib/python3.10/dist-packages (from requests>=2.1.0->tldextract->scrapy) (2.2.3)\n",
            "Requirement already satisfied: certifi>=2017.4.17 in /usr/local/lib/python3.10/dist-packages (from requests>=2.1.0->tldextract->scrapy) (2024.8.30)\n",
            "Downloading Scrapy-2.11.2-py2.py3-none-any.whl (290 kB)\n",
            "\u001b[2K   \u001b[90m━━━━━━━━━━━━━━━━━━━━━━━━━━━━━━━━━━━━━━━━\u001b[0m \u001b[32m290.1/290.1 kB\u001b[0m \u001b[31m6.5 MB/s\u001b[0m eta \u001b[36m0:00:00\u001b[0m\n",
            "\u001b[?25hDownloading cssselect-1.2.0-py2.py3-none-any.whl (18 kB)\n",
            "Downloading itemadapter-0.9.0-py3-none-any.whl (11 kB)\n",
            "Downloading itemloaders-1.3.1-py3-none-any.whl (12 kB)\n",
            "Downloading parsel-1.9.1-py2.py3-none-any.whl (17 kB)\n",
            "Downloading Protego-0.3.1-py2.py3-none-any.whl (8.5 kB)\n",
            "Downloading PyDispatcher-2.0.7-py3-none-any.whl (12 kB)\n",
            "Downloading queuelib-1.7.0-py2.py3-none-any.whl (13 kB)\n",
            "Downloading service_identity-24.1.0-py3-none-any.whl (12 kB)\n",
            "Downloading twisted-24.7.0-py3-none-any.whl (3.2 MB)\n",
            "\u001b[2K   \u001b[90m━━━━━━━━━━━━━━━━━━━━━━━━━━━━━━━━━━━━━━━━\u001b[0m \u001b[32m3.2/3.2 MB\u001b[0m \u001b[31m43.9 MB/s\u001b[0m eta \u001b[36m0:00:00\u001b[0m\n",
            "\u001b[?25hDownloading w3lib-2.2.1-py3-none-any.whl (21 kB)\n",
            "Downloading zope.interface-7.0.3-cp310-cp310-manylinux_2_5_x86_64.manylinux1_x86_64.manylinux_2_17_x86_64.manylinux2014_x86_64.whl (254 kB)\n",
            "\u001b[2K   \u001b[90m━━━━━━━━━━━━━━━━━━━━━━━━━━━━━━━━━━━━━━━━\u001b[0m \u001b[32m254.1/254.1 kB\u001b[0m \u001b[31m13.6 MB/s\u001b[0m eta \u001b[36m0:00:00\u001b[0m\n",
            "\u001b[?25hDownloading tldextract-5.1.2-py3-none-any.whl (97 kB)\n",
            "\u001b[2K   \u001b[90m━━━━━━━━━━━━━━━━━━━━━━━━━━━━━━━━━━━━━━━━\u001b[0m \u001b[32m97.6/97.6 kB\u001b[0m \u001b[31m6.3 MB/s\u001b[0m eta \u001b[36m0:00:00\u001b[0m\n",
            "\u001b[?25hDownloading Automat-24.8.1-py3-none-any.whl (42 kB)\n",
            "\u001b[2K   \u001b[90m━━━━━━━━━━━━━━━━━━━━━━━━━━━━━━━━━━━━━━━━\u001b[0m \u001b[32m42.6/42.6 kB\u001b[0m \u001b[31m2.2 MB/s\u001b[0m eta \u001b[36m0:00:00\u001b[0m\n",
            "\u001b[?25hDownloading constantly-23.10.4-py3-none-any.whl (13 kB)\n",
            "Downloading hyperlink-21.0.0-py2.py3-none-any.whl (74 kB)\n",
            "\u001b[2K   \u001b[90m━━━━━━━━━━━━━━━━━━━━━━━━━━━━━━━━━━━━━━━━\u001b[0m \u001b[32m74.6/74.6 kB\u001b[0m \u001b[31m4.0 MB/s\u001b[0m eta \u001b[36m0:00:00\u001b[0m\n",
            "\u001b[?25hDownloading incremental-24.7.2-py3-none-any.whl (20 kB)\n",
            "Downloading jmespath-1.0.1-py3-none-any.whl (20 kB)\n",
            "Downloading requests_file-2.1.0-py2.py3-none-any.whl (4.2 kB)\n",
            "Installing collected packages: PyDispatcher, zope.interface, w3lib, queuelib, protego, jmespath, itemadapter, incremental, hyperlink, cssselect, constantly, automat, Twisted, requests-file, parsel, tldextract, service-identity, itemloaders, scrapy\n",
            "Successfully installed PyDispatcher-2.0.7 Twisted-24.7.0 automat-24.8.1 constantly-23.10.4 cssselect-1.2.0 hyperlink-21.0.0 incremental-24.7.2 itemadapter-0.9.0 itemloaders-1.3.1 jmespath-1.0.1 parsel-1.9.1 protego-0.3.1 queuelib-1.7.0 requests-file-2.1.0 scrapy-2.11.2 service-identity-24.1.0 tldextract-5.1.2 w3lib-2.2.1 zope.interface-7.0.3\n"
          ]
        }
      ]
    },
    {
      "cell_type": "code",
      "source": [
        "import scrapy"
      ],
      "metadata": {
        "id": "-VLEo2MPCiRQ"
      },
      "execution_count": 2,
      "outputs": []
    },
    {
      "cell_type": "markdown",
      "metadata": {
        "id": "jhPF9V3_Jyjv"
      },
      "source": [
        "# MILESTONE 1\n",
        "\n",
        "a) Create a _Scrapy_ project for this lab (**HINT:** Remember you can use the command `startproject`).\n",
        "\n",
        "b) Create a crawler/spider to the website [BACHELOR IN DATA SCIENCE AND ENGINEERING\n",
        "](https://www.uc3m.es/bachelor-degree/data-science).\n",
        "\n",
        "c) Add the code to the crawler to get PROGRAM header. **TIP:** Find the element tag with `id=\"program\"` and print the result.\n",
        "\n",
        "d) Add the code to the crawler to find the table inside PROGRAM for Course 1 - Semester 1 and print the result."
      ]
    },
    {
      "cell_type": "code",
      "metadata": {
        "id": "QR58vq8AwZuQ",
        "colab": {
          "base_uri": "https://localhost:8080/"
        },
        "outputId": "49868fb7-7953-4e6e-8a27-e92f31fbaa92"
      },
      "source": [
        "## A) Create a Scrapy project for this lab\n",
        "!scrapy startproject scrapy_lab"
      ],
      "execution_count": 3,
      "outputs": [
        {
          "output_type": "stream",
          "name": "stdout",
          "text": [
            "New Scrapy project 'scrapy_lab', using template directory '/usr/local/lib/python3.10/dist-packages/scrapy/templates/project', created in:\n",
            "    /content/scrapy_lab\n",
            "\n",
            "You can start your first spider with:\n",
            "    cd scrapy_lab\n",
            "    scrapy genspider example example.com\n"
          ]
        }
      ]
    },
    {
      "cell_type": "code",
      "metadata": {
        "id": "CcpQL0jgXBPq",
        "colab": {
          "base_uri": "https://localhost:8080/"
        },
        "outputId": "e92c8bcf-7fe5-4c0f-e305-1cd349792307"
      },
      "source": [
        "# Move to the project folder\n",
        "%cd \"scrapy_lab\""
      ],
      "execution_count": 4,
      "outputs": [
        {
          "output_type": "stream",
          "name": "stdout",
          "text": [
            "/content/scrapy_lab\n"
          ]
        }
      ]
    },
    {
      "cell_type": "code",
      "metadata": {
        "id": "tkBV7gekXBMB",
        "colab": {
          "base_uri": "https://localhost:8080/"
        },
        "outputId": "504f2747-89d1-4711-9abd-cce4e640f956"
      },
      "source": [
        "## B) Create a crawler/spider to the website BACHELOR IN DATA SCIENCE AND ENGINEERING\n",
        "!scrapy genspider datascience_spider https://www.uc3m.es/bachelor-degree/data-science"
      ],
      "execution_count": 5,
      "outputs": [
        {
          "output_type": "stream",
          "name": "stdout",
          "text": [
            "Spider 'datascience_spider' already exists in module:\n",
            "  scrapy_lab.spiders.datascience_spider\n"
          ]
        }
      ]
    },
    {
      "cell_type": "code",
      "source": [
        "## C) Add the code to the crawler to get PROGRAM header. TIP: Find the element tag with id=\"program\" and print the result.\n",
        "class DatascienceSpider(scrapy.Spider):\n",
        "    name = 'datascience_spider'\n",
        "    allowed_domains = ['uc3m.es']\n",
        "    start_urls = ['https://www.uc3m.es/bachelor-degree/data-science']\n",
        "\n",
        "    def parse(self, response):\n",
        "        # Extract the header from the div with id=\"program\"\n",
        "        program_header = response.xpath('//div[@id=\"program\"]/h2/text()').get()\n",
        "\n",
        "        # Print the result\n",
        "        print(f\"Program Header: {program_header}\")"
      ],
      "metadata": {
        "id": "qMhG0vJxDzjv"
      },
      "execution_count": 6,
      "outputs": []
    },
    {
      "cell_type": "code",
      "source": [
        "!scrapy crawl datascience_spider"
      ],
      "metadata": {
        "id": "kJBpQpbQ2C3b",
        "collapsed": true,
        "colab": {
          "base_uri": "https://localhost:8080/"
        },
        "outputId": "1d897c27-5f28-43e2-90ce-a7844fb5e6d7"
      },
      "execution_count": 7,
      "outputs": [
        {
          "output_type": "stream",
          "name": "stdout",
          "text": [
            "2024-09-29 09:46:14 [scrapy.utils.log] INFO: Scrapy 2.11.2 started (bot: scrapy_lab)\n",
            "2024-09-29 09:46:14 [scrapy.utils.log] INFO: Versions: lxml 4.9.4.0, libxml2 2.10.3, cssselect 1.2.0, parsel 1.9.1, w3lib 2.2.1, Twisted 24.7.0, Python 3.10.12 (main, Sep 11 2024, 15:47:36) [GCC 11.4.0], pyOpenSSL 24.2.1 (OpenSSL 3.3.2 3 Sep 2024), cryptography 43.0.1, Platform Linux-6.1.85+-x86_64-with-glibc2.35\n",
            "2024-09-29 09:46:14 [scrapy.addons] INFO: Enabled addons:\n",
            "[]\n",
            "2024-09-29 09:46:14 [asyncio] DEBUG: Using selector: EpollSelector\n",
            "2024-09-29 09:46:14 [scrapy.utils.log] DEBUG: Using reactor: twisted.internet.asyncioreactor.AsyncioSelectorReactor\n",
            "2024-09-29 09:46:14 [scrapy.utils.log] DEBUG: Using asyncio event loop: asyncio.unix_events._UnixSelectorEventLoop\n",
            "2024-09-29 09:46:14 [scrapy.extensions.telnet] INFO: Telnet Password: 1c48439b68653990\n",
            "2024-09-29 09:46:14 [scrapy.middleware] INFO: Enabled extensions:\n",
            "['scrapy.extensions.corestats.CoreStats',\n",
            " 'scrapy.extensions.telnet.TelnetConsole',\n",
            " 'scrapy.extensions.memusage.MemoryUsage',\n",
            " 'scrapy.extensions.logstats.LogStats']\n",
            "2024-09-29 09:46:14 [scrapy.crawler] INFO: Overridden settings:\n",
            "{'BOT_NAME': 'scrapy_lab',\n",
            " 'FEED_EXPORT_ENCODING': 'utf-8',\n",
            " 'NEWSPIDER_MODULE': 'scrapy_lab.spiders',\n",
            " 'REQUEST_FINGERPRINTER_IMPLEMENTATION': '2.7',\n",
            " 'ROBOTSTXT_OBEY': True,\n",
            " 'SPIDER_MODULES': ['scrapy_lab.spiders'],\n",
            " 'TWISTED_REACTOR': 'twisted.internet.asyncioreactor.AsyncioSelectorReactor'}\n",
            "2024-09-29 09:46:14 [scrapy.middleware] INFO: Enabled downloader middlewares:\n",
            "['scrapy.downloadermiddlewares.offsite.OffsiteMiddleware',\n",
            " 'scrapy.downloadermiddlewares.robotstxt.RobotsTxtMiddleware',\n",
            " 'scrapy.downloadermiddlewares.httpauth.HttpAuthMiddleware',\n",
            " 'scrapy.downloadermiddlewares.downloadtimeout.DownloadTimeoutMiddleware',\n",
            " 'scrapy.downloadermiddlewares.defaultheaders.DefaultHeadersMiddleware',\n",
            " 'scrapy.downloadermiddlewares.useragent.UserAgentMiddleware',\n",
            " 'scrapy.downloadermiddlewares.retry.RetryMiddleware',\n",
            " 'scrapy.downloadermiddlewares.redirect.MetaRefreshMiddleware',\n",
            " 'scrapy.downloadermiddlewares.httpcompression.HttpCompressionMiddleware',\n",
            " 'scrapy.downloadermiddlewares.redirect.RedirectMiddleware',\n",
            " 'scrapy.downloadermiddlewares.cookies.CookiesMiddleware',\n",
            " 'scrapy.downloadermiddlewares.httpproxy.HttpProxyMiddleware',\n",
            " 'scrapy.downloadermiddlewares.stats.DownloaderStats']\n",
            "2024-09-29 09:46:14 [scrapy.middleware] INFO: Enabled spider middlewares:\n",
            "['scrapy.spidermiddlewares.httperror.HttpErrorMiddleware',\n",
            " 'scrapy.spidermiddlewares.referer.RefererMiddleware',\n",
            " 'scrapy.spidermiddlewares.urllength.UrlLengthMiddleware',\n",
            " 'scrapy.spidermiddlewares.depth.DepthMiddleware']\n",
            "2024-09-29 09:46:14 [scrapy.middleware] INFO: Enabled item pipelines:\n",
            "[]\n",
            "2024-09-29 09:46:14 [scrapy.core.engine] INFO: Spider opened\n",
            "2024-09-29 09:46:14 [scrapy.extensions.logstats] INFO: Crawled 0 pages (at 0 pages/min), scraped 0 items (at 0 items/min)\n",
            "2024-09-29 09:46:14 [scrapy.extensions.telnet] INFO: Telnet console listening on 127.0.0.1:6023\n",
            "2024-09-29 09:46:15 [scrapy.core.engine] DEBUG: Crawled (200) <GET https://www.uc3m.es/robots.txt> (referer: None)\n",
            "2024-09-29 09:46:15 [urllib3.connectionpool] DEBUG: Starting new HTTPS connection (1): publicsuffix.org:443\n",
            "2024-09-29 09:46:15 [urllib3.connectionpool] DEBUG: https://publicsuffix.org:443 \"GET /list/public_suffix_list.dat HTTP/11\" 200 86537\n",
            "2024-09-29 09:46:15 [scrapy.core.engine] DEBUG: Crawled (200) <GET https://www.uc3m.es/bachelor-degree/data-science> (referer: None)\n",
            "Program Header: Program\n",
            "2024-09-29 09:46:15 [scrapy.core.engine] INFO: Closing spider (finished)\n",
            "2024-09-29 09:46:15 [scrapy.statscollectors] INFO: Dumping Scrapy stats:\n",
            "{'downloader/request_bytes': 462,\n",
            " 'downloader/request_count': 2,\n",
            " 'downloader/request_method_count/GET': 2,\n",
            " 'downloader/response_bytes': 18336,\n",
            " 'downloader/response_count': 2,\n",
            " 'downloader/response_status_count/200': 2,\n",
            " 'elapsed_time_seconds': 1.338852,\n",
            " 'finish_reason': 'finished',\n",
            " 'finish_time': datetime.datetime(2024, 9, 29, 9, 46, 15, 860014, tzinfo=datetime.timezone.utc),\n",
            " 'httpcompression/response_bytes': 92807,\n",
            " 'httpcompression/response_count': 2,\n",
            " 'log_count/DEBUG': 7,\n",
            " 'log_count/INFO': 10,\n",
            " 'memusage/max': 126812160,\n",
            " 'memusage/startup': 126812160,\n",
            " 'response_received_count': 2,\n",
            " 'robotstxt/request_count': 1,\n",
            " 'robotstxt/response_count': 1,\n",
            " 'robotstxt/response_status_count/200': 1,\n",
            " 'scheduler/dequeued': 1,\n",
            " 'scheduler/dequeued/memory': 1,\n",
            " 'scheduler/enqueued': 1,\n",
            " 'scheduler/enqueued/memory': 1,\n",
            " 'start_time': datetime.datetime(2024, 9, 29, 9, 46, 14, 521162, tzinfo=datetime.timezone.utc)}\n",
            "2024-09-29 09:46:15 [scrapy.core.engine] INFO: Spider closed (finished)\n"
          ]
        }
      ]
    },
    {
      "cell_type": "code",
      "source": [
        "## D) Add the code to the crawler to find the table inside PROGRAM for Course 1 - Semester 1 and print the result.\n",
        "class DatascienceSpider(scrapy.Spider):\n",
        "    name = 'datascience_spider'\n",
        "    allowed_domains = ['uc3m.es']\n",
        "    start_urls = ['https://www.uc3m.es/bachelor-degree/data-science']\n",
        "\n",
        "    def parse(self, response):\n",
        "        # Find the \"Year 1 - Semester 1\" table\n",
        "        table = response.xpath('//*[contains(text(), \"Year 1 - Semester 1\")]/following-sibling::table').get()\n",
        "\n",
        "        # Print the table HTML content\n",
        "        print(f\"Year 1 - Semester 1: \\n{table}\")"
      ],
      "metadata": {
        "id": "wXcrEkSJDzMG"
      },
      "execution_count": 8,
      "outputs": []
    },
    {
      "cell_type": "code",
      "source": [
        "!scrapy crawl datascience_spider"
      ],
      "metadata": {
        "id": "5R_5VKPA2v_R",
        "collapsed": true,
        "colab": {
          "base_uri": "https://localhost:8080/"
        },
        "outputId": "b07188fa-8306-473f-d71a-981ddf332643"
      },
      "execution_count": 7,
      "outputs": [
        {
          "output_type": "stream",
          "name": "stdout",
          "text": [
            "2024-09-29 09:56:23 [scrapy.utils.log] INFO: Scrapy 2.11.2 started (bot: scrapy_lab)\n",
            "2024-09-29 09:56:23 [scrapy.utils.log] INFO: Versions: lxml 4.9.4.0, libxml2 2.10.3, cssselect 1.2.0, parsel 1.9.1, w3lib 2.2.1, Twisted 24.7.0, Python 3.10.12 (main, Sep 11 2024, 15:47:36) [GCC 11.4.0], pyOpenSSL 24.2.1 (OpenSSL 3.3.2 3 Sep 2024), cryptography 43.0.1, Platform Linux-6.1.85+-x86_64-with-glibc2.35\n",
            "2024-09-29 09:56:23 [scrapy.addons] INFO: Enabled addons:\n",
            "[]\n",
            "2024-09-29 09:56:23 [asyncio] DEBUG: Using selector: EpollSelector\n",
            "2024-09-29 09:56:23 [scrapy.utils.log] DEBUG: Using reactor: twisted.internet.asyncioreactor.AsyncioSelectorReactor\n",
            "2024-09-29 09:56:23 [scrapy.utils.log] DEBUG: Using asyncio event loop: asyncio.unix_events._UnixSelectorEventLoop\n",
            "2024-09-29 09:56:23 [scrapy.extensions.telnet] INFO: Telnet Password: c4575ced36fbfacd\n",
            "2024-09-29 09:56:23 [scrapy.middleware] INFO: Enabled extensions:\n",
            "['scrapy.extensions.corestats.CoreStats',\n",
            " 'scrapy.extensions.telnet.TelnetConsole',\n",
            " 'scrapy.extensions.memusage.MemoryUsage',\n",
            " 'scrapy.extensions.logstats.LogStats']\n",
            "2024-09-29 09:56:23 [scrapy.crawler] INFO: Overridden settings:\n",
            "{'BOT_NAME': 'scrapy_lab',\n",
            " 'FEED_EXPORT_ENCODING': 'utf-8',\n",
            " 'NEWSPIDER_MODULE': 'scrapy_lab.spiders',\n",
            " 'REQUEST_FINGERPRINTER_IMPLEMENTATION': '2.7',\n",
            " 'ROBOTSTXT_OBEY': True,\n",
            " 'SPIDER_MODULES': ['scrapy_lab.spiders'],\n",
            " 'TWISTED_REACTOR': 'twisted.internet.asyncioreactor.AsyncioSelectorReactor'}\n",
            "2024-09-29 09:56:23 [scrapy.middleware] INFO: Enabled downloader middlewares:\n",
            "['scrapy.downloadermiddlewares.offsite.OffsiteMiddleware',\n",
            " 'scrapy.downloadermiddlewares.robotstxt.RobotsTxtMiddleware',\n",
            " 'scrapy.downloadermiddlewares.httpauth.HttpAuthMiddleware',\n",
            " 'scrapy.downloadermiddlewares.downloadtimeout.DownloadTimeoutMiddleware',\n",
            " 'scrapy.downloadermiddlewares.defaultheaders.DefaultHeadersMiddleware',\n",
            " 'scrapy.downloadermiddlewares.useragent.UserAgentMiddleware',\n",
            " 'scrapy.downloadermiddlewares.retry.RetryMiddleware',\n",
            " 'scrapy.downloadermiddlewares.redirect.MetaRefreshMiddleware',\n",
            " 'scrapy.downloadermiddlewares.httpcompression.HttpCompressionMiddleware',\n",
            " 'scrapy.downloadermiddlewares.redirect.RedirectMiddleware',\n",
            " 'scrapy.downloadermiddlewares.cookies.CookiesMiddleware',\n",
            " 'scrapy.downloadermiddlewares.httpproxy.HttpProxyMiddleware',\n",
            " 'scrapy.downloadermiddlewares.stats.DownloaderStats']\n",
            "2024-09-29 09:56:23 [scrapy.middleware] INFO: Enabled spider middlewares:\n",
            "['scrapy.spidermiddlewares.httperror.HttpErrorMiddleware',\n",
            " 'scrapy.spidermiddlewares.referer.RefererMiddleware',\n",
            " 'scrapy.spidermiddlewares.urllength.UrlLengthMiddleware',\n",
            " 'scrapy.spidermiddlewares.depth.DepthMiddleware']\n",
            "2024-09-29 09:56:23 [scrapy.middleware] INFO: Enabled item pipelines:\n",
            "[]\n",
            "2024-09-29 09:56:23 [scrapy.core.engine] INFO: Spider opened\n",
            "2024-09-29 09:56:23 [scrapy.extensions.logstats] INFO: Crawled 0 pages (at 0 pages/min), scraped 0 items (at 0 items/min)\n",
            "2024-09-29 09:56:23 [scrapy.extensions.telnet] INFO: Telnet console listening on 127.0.0.1:6023\n",
            "2024-09-29 09:56:23 [scrapy.core.engine] DEBUG: Crawled (200) <GET https://www.uc3m.es/robots.txt> (referer: None)\n",
            "2024-09-29 09:56:24 [scrapy.core.engine] DEBUG: Crawled (200) <GET https://www.uc3m.es/bachelor-degree/data-science> (referer: None)\n",
            "Year 1 - Semester 1: \n",
            "<table cellspacing=\"1\" cellpadding=\"1\" border=\"1\"><caption class=\"oculto\">General subjects</caption><thead><tr><th class=\"first\" id=\"Subjects-1-1-1371240957274\">Subjects</th><th id=\"ECTS-1-1-1371240957274\">ECTS</th><th id=\"TYPE-1-1-1371240957274\">TYPE</th><th id=\"Language-1-1-1371240957274\" class=\"last\">Language</th></tr></thead><tr><td data-label=\"Subject\" headers=\"Subjects-1-1-1371240957274\"><a href=\"https://aplicaciones.uc3m.es/cpa/generaFicha?&amp;est=350&amp;plan=392&amp;asig=16472&amp;idioma=2\"><span class=\"\">Calculus I</span></a></td><td data-label=\"ECTS\" headers=\"ECTS-1-1-1371240957274\"><span class=\"\">6</span></td><td data-label=\"TYPE\" headers=\"TYPE-1-1-1371240957274\"><span class=\"\">BC</span></td><td class=\"listaIdiomas\" data-label=\"Language\" headers=\"Language-1-1-1371240957274\"><img class=\"idioma_img\" src=\"/base/media/base/img/decorativa/IMG_Comunes_IdiomaEN_Square/ingles.jpg\" alt=\"English\"></td></tr><tr><td data-label=\"Subject\" headers=\"Subjects-1-1-1371240957274\"><a href=\"https://aplicaciones.uc3m.es/cpa/generaFicha?&amp;est=350&amp;plan=392&amp;asig=16475&amp;idioma=2\"><span class=\"\">Introduction to Data Science</span></a></td><td data-label=\"ECTS\" headers=\"ECTS-1-1-1371240957274\"><span class=\"\">6</span></td><td data-label=\"TYPE\" headers=\"TYPE-1-1-1371240957274\"><span class=\"\">BC</span></td><td class=\"listaIdiomas\" data-label=\"Language\" headers=\"Language-1-1-1371240957274\"><img class=\"idioma_img\" src=\"/base/media/base/img/decorativa/IMG_Comunes_IdiomaEN_Square/ingles.jpg\" alt=\"English\"></td></tr><tr><td data-label=\"Subject\" headers=\"Subjects-1-1-1371240957274\"><a href=\"https://aplicaciones.uc3m.es/cpa/generaFicha?&amp;est=350&amp;plan=392&amp;asig=16266&amp;idioma=2\"><span class=\"\">Linear algebra</span></a></td><td data-label=\"ECTS\" headers=\"ECTS-1-1-1371240957274\"><span class=\"\">6</span></td><td data-label=\"TYPE\" headers=\"TYPE-1-1-1371240957274\"><span class=\"\">BC</span></td><td class=\"listaIdiomas\" data-label=\"Language\" headers=\"Language-1-1-1371240957274\"><img class=\"idioma_img\" src=\"/base/media/base/img/decorativa/IMG_Comunes_IdiomaEN_Square/ingles.jpg\" alt=\"English\"></td></tr><tr><td data-label=\"Subject\" headers=\"Subjects-1-1-1371240957274\"><a href=\"https://aplicaciones.uc3m.es/cpa/generaFicha?&amp;est=350&amp;plan=392&amp;asig=16477&amp;idioma=2\"><span class=\"\">Probability and Data Analysis</span></a></td><td data-label=\"ECTS\" headers=\"ECTS-1-1-1371240957274\"><span class=\"\">6</span></td><td data-label=\"TYPE\" headers=\"TYPE-1-1-1371240957274\"><span class=\"\">BC</span></td><td class=\"listaIdiomas\" data-label=\"Language\" headers=\"Language-1-1-1371240957274\"><img class=\"idioma_img\" src=\"/base/media/base/img/decorativa/IMG_Comunes_IdiomaEN_Square/ingles.jpg\" alt=\"English\"></td></tr><tr><td data-label=\"Subject\" headers=\"Subjects-1-1-1371240957274\"><a href=\"https://aplicaciones.uc3m.es/cpa/generaFicha?&amp;est=350&amp;plan=392&amp;asig=16480&amp;idioma=2\"><span class=\"\">Programming</span></a></td><td data-label=\"ECTS\" headers=\"ECTS-1-1-1371240957274\"><span class=\"\">6</span></td><td data-label=\"TYPE\" headers=\"TYPE-1-1-1371240957274\"><span class=\"\">BC</span></td><td class=\"listaIdiomas\" data-label=\"Language\" headers=\"Language-1-1-1371240957274\"><img class=\"idioma_img\" src=\"/base/media/base/img/decorativa/IMG_Comunes_IdiomaEN_Square/ingles.jpg\" alt=\"English\"></td></tr></table>\n",
            "2024-09-29 09:56:24 [scrapy.core.engine] INFO: Closing spider (finished)\n",
            "2024-09-29 09:56:24 [scrapy.statscollectors] INFO: Dumping Scrapy stats:\n",
            "{'downloader/request_bytes': 462,\n",
            " 'downloader/request_count': 2,\n",
            " 'downloader/request_method_count/GET': 2,\n",
            " 'downloader/response_bytes': 18326,\n",
            " 'downloader/response_count': 2,\n",
            " 'downloader/response_status_count/200': 2,\n",
            " 'elapsed_time_seconds': 1.276379,\n",
            " 'finish_reason': 'finished',\n",
            " 'finish_time': datetime.datetime(2024, 9, 29, 9, 56, 24, 669611, tzinfo=datetime.timezone.utc),\n",
            " 'httpcompression/response_bytes': 92807,\n",
            " 'httpcompression/response_count': 2,\n",
            " 'log_count/DEBUG': 5,\n",
            " 'log_count/INFO': 10,\n",
            " 'memusage/max': 167264256,\n",
            " 'memusage/startup': 167264256,\n",
            " 'response_received_count': 2,\n",
            " 'robotstxt/request_count': 1,\n",
            " 'robotstxt/response_count': 1,\n",
            " 'robotstxt/response_status_count/200': 1,\n",
            " 'scheduler/dequeued': 1,\n",
            " 'scheduler/dequeued/memory': 1,\n",
            " 'scheduler/enqueued': 1,\n",
            " 'scheduler/enqueued/memory': 1,\n",
            " 'start_time': datetime.datetime(2024, 9, 29, 9, 56, 23, 393232, tzinfo=datetime.timezone.utc)}\n",
            "2024-09-29 09:56:24 [scrapy.core.engine] INFO: Spider closed (finished)\n"
          ]
        }
      ]
    },
    {
      "cell_type": "markdown",
      "metadata": {
        "id": "oHKtqTS95RSx"
      },
      "source": [
        "# MILESTONE 2\n",
        "\n",
        "a) Obtain the link to Web Analytics course by finding the corresponding href.\n",
        "\n",
        "b) Create a new spider _class_ and access to this URL.\n",
        "\n",
        "**TIP**: For this milestone, you need to create a new crawler and give it a different name.\n",
        "\n",
        "c) Print the text inside the _Description of contents: programme_ section.\n",
        "\n"
      ]
    },
    {
      "cell_type": "code",
      "metadata": {
        "id": "W7xkCvEVXDT2",
        "colab": {
          "base_uri": "https://localhost:8080/"
        },
        "outputId": "2396e537-8521-4e4e-b0f9-50cf386aad37"
      },
      "source": [
        "# Create a new crawler/spider\n",
        "!scrapy genspider web_spider https://www.uc3m.es/bachelor-degree/data-science"
      ],
      "execution_count": 10,
      "outputs": [
        {
          "output_type": "stream",
          "name": "stdout",
          "text": [
            "Created spider 'web_spider' using template 'basic' in module:\n",
            "  scrapy_lab.spiders.web_spider\n"
          ]
        }
      ]
    },
    {
      "cell_type": "code",
      "metadata": {
        "id": "3-yQti1TXDPz"
      },
      "source": [
        "## A) Obtain the link to Web Analytics course by finding the corresponding href\n",
        "class WebSpiderSpider(scrapy.Spider):\n",
        "    name = \"web_spider\"\n",
        "    allowed_domains = [\"www.uc3m.es\"]\n",
        "    start_urls = [\"https://www.uc3m.es/bachelor-degree/data-science\"]\n",
        "\n",
        "    def parse(self, response):\n",
        "      # Find the text \"Web Analytics\" in the entire HTML; then once we see that it is\n",
        "      # inside an anchor, we get the link\n",
        "      web_analytics_link = response.xpath('//*[contains(text(), \"Web Analytics\")]/parent::a/@href').get()\n",
        "\n",
        "      # Print the link\n",
        "      print(f\"Web Analytics Link: \\n{web_analytics_link}\")"
      ],
      "execution_count": null,
      "outputs": []
    },
    {
      "cell_type": "code",
      "metadata": {
        "id": "OtEwewGQXDNb",
        "colab": {
          "base_uri": "https://localhost:8080/"
        },
        "outputId": "61b05223-8c20-4ef7-c01b-21f9bafd7881"
      },
      "source": [
        "!scrapy crawl web_spider"
      ],
      "execution_count": 11,
      "outputs": [
        {
          "output_type": "stream",
          "name": "stdout",
          "text": [
            "2024-09-29 09:46:54 [scrapy.utils.log] INFO: Scrapy 2.11.2 started (bot: scrapy_lab)\n",
            "2024-09-29 09:46:54 [scrapy.utils.log] INFO: Versions: lxml 4.9.4.0, libxml2 2.10.3, cssselect 1.2.0, parsel 1.9.1, w3lib 2.2.1, Twisted 24.7.0, Python 3.10.12 (main, Sep 11 2024, 15:47:36) [GCC 11.4.0], pyOpenSSL 24.2.1 (OpenSSL 3.3.2 3 Sep 2024), cryptography 43.0.1, Platform Linux-6.1.85+-x86_64-with-glibc2.35\n",
            "2024-09-29 09:46:54 [scrapy.addons] INFO: Enabled addons:\n",
            "[]\n",
            "2024-09-29 09:46:54 [asyncio] DEBUG: Using selector: EpollSelector\n",
            "2024-09-29 09:46:54 [scrapy.utils.log] DEBUG: Using reactor: twisted.internet.asyncioreactor.AsyncioSelectorReactor\n",
            "2024-09-29 09:46:54 [scrapy.utils.log] DEBUG: Using asyncio event loop: asyncio.unix_events._UnixSelectorEventLoop\n",
            "2024-09-29 09:46:54 [scrapy.extensions.telnet] INFO: Telnet Password: f57be88ca683aec4\n",
            "2024-09-29 09:46:54 [scrapy.middleware] INFO: Enabled extensions:\n",
            "['scrapy.extensions.corestats.CoreStats',\n",
            " 'scrapy.extensions.telnet.TelnetConsole',\n",
            " 'scrapy.extensions.memusage.MemoryUsage',\n",
            " 'scrapy.extensions.logstats.LogStats']\n",
            "2024-09-29 09:46:54 [scrapy.crawler] INFO: Overridden settings:\n",
            "{'BOT_NAME': 'scrapy_lab',\n",
            " 'FEED_EXPORT_ENCODING': 'utf-8',\n",
            " 'NEWSPIDER_MODULE': 'scrapy_lab.spiders',\n",
            " 'REQUEST_FINGERPRINTER_IMPLEMENTATION': '2.7',\n",
            " 'ROBOTSTXT_OBEY': True,\n",
            " 'SPIDER_MODULES': ['scrapy_lab.spiders'],\n",
            " 'TWISTED_REACTOR': 'twisted.internet.asyncioreactor.AsyncioSelectorReactor'}\n",
            "2024-09-29 09:46:54 [scrapy.middleware] INFO: Enabled downloader middlewares:\n",
            "['scrapy.downloadermiddlewares.offsite.OffsiteMiddleware',\n",
            " 'scrapy.downloadermiddlewares.robotstxt.RobotsTxtMiddleware',\n",
            " 'scrapy.downloadermiddlewares.httpauth.HttpAuthMiddleware',\n",
            " 'scrapy.downloadermiddlewares.downloadtimeout.DownloadTimeoutMiddleware',\n",
            " 'scrapy.downloadermiddlewares.defaultheaders.DefaultHeadersMiddleware',\n",
            " 'scrapy.downloadermiddlewares.useragent.UserAgentMiddleware',\n",
            " 'scrapy.downloadermiddlewares.retry.RetryMiddleware',\n",
            " 'scrapy.downloadermiddlewares.redirect.MetaRefreshMiddleware',\n",
            " 'scrapy.downloadermiddlewares.httpcompression.HttpCompressionMiddleware',\n",
            " 'scrapy.downloadermiddlewares.redirect.RedirectMiddleware',\n",
            " 'scrapy.downloadermiddlewares.cookies.CookiesMiddleware',\n",
            " 'scrapy.downloadermiddlewares.httpproxy.HttpProxyMiddleware',\n",
            " 'scrapy.downloadermiddlewares.stats.DownloaderStats']\n",
            "2024-09-29 09:46:54 [scrapy.middleware] INFO: Enabled spider middlewares:\n",
            "['scrapy.spidermiddlewares.httperror.HttpErrorMiddleware',\n",
            " 'scrapy.spidermiddlewares.referer.RefererMiddleware',\n",
            " 'scrapy.spidermiddlewares.urllength.UrlLengthMiddleware',\n",
            " 'scrapy.spidermiddlewares.depth.DepthMiddleware']\n",
            "2024-09-29 09:46:54 [scrapy.middleware] INFO: Enabled item pipelines:\n",
            "[]\n",
            "2024-09-29 09:46:54 [scrapy.core.engine] INFO: Spider opened\n",
            "2024-09-29 09:46:54 [scrapy.extensions.logstats] INFO: Crawled 0 pages (at 0 pages/min), scraped 0 items (at 0 items/min)\n",
            "2024-09-29 09:46:54 [scrapy.extensions.telnet] INFO: Telnet console listening on 127.0.0.1:6023\n",
            "2024-09-29 09:46:55 [scrapy.core.engine] DEBUG: Crawled (200) <GET https://www.uc3m.es/robots.txt> (referer: None)\n",
            "2024-09-29 09:46:55 [scrapy.core.engine] DEBUG: Crawled (200) <GET https://www.uc3m.es/bachelor-degree/data-science> (referer: None)\n",
            "Web Analytics Link: \n",
            "https://aplicaciones.uc3m.es/cpa/generaFicha?&est=350&plan=392&asig=16507&idioma=2\n",
            "2024-09-29 09:46:55 [scrapy.core.engine] INFO: Closing spider (finished)\n",
            "2024-09-29 09:46:55 [scrapy.statscollectors] INFO: Dumping Scrapy stats:\n",
            "{'downloader/request_bytes': 462,\n",
            " 'downloader/request_count': 2,\n",
            " 'downloader/request_method_count/GET': 2,\n",
            " 'downloader/response_bytes': 18332,\n",
            " 'downloader/response_count': 2,\n",
            " 'downloader/response_status_count/200': 2,\n",
            " 'elapsed_time_seconds': 1.273217,\n",
            " 'finish_reason': 'finished',\n",
            " 'finish_time': datetime.datetime(2024, 9, 29, 9, 46, 55, 781628, tzinfo=datetime.timezone.utc),\n",
            " 'httpcompression/response_bytes': 92817,\n",
            " 'httpcompression/response_count': 2,\n",
            " 'log_count/DEBUG': 5,\n",
            " 'log_count/INFO': 10,\n",
            " 'memusage/max': 126812160,\n",
            " 'memusage/startup': 126812160,\n",
            " 'response_received_count': 2,\n",
            " 'robotstxt/request_count': 1,\n",
            " 'robotstxt/response_count': 1,\n",
            " 'robotstxt/response_status_count/200': 1,\n",
            " 'scheduler/dequeued': 1,\n",
            " 'scheduler/dequeued/memory': 1,\n",
            " 'scheduler/enqueued': 1,\n",
            " 'scheduler/enqueued/memory': 1,\n",
            " 'start_time': datetime.datetime(2024, 9, 29, 9, 46, 54, 508411, tzinfo=datetime.timezone.utc)}\n",
            "2024-09-29 09:46:55 [scrapy.core.engine] INFO: Spider closed (finished)\n"
          ]
        }
      ]
    },
    {
      "cell_type": "code",
      "source": [
        "## B) Create a new spider class and access to this URL\n",
        "## C) Print the text inside the Description of contents: programme section.\n",
        "class WebSpiderSpider(scrapy.Spider):\n",
        "    name = \"web_spider\"\n",
        "    allowed_domains = [\"www.uc3m.es\"]\n",
        "    start_urls = [\"https://www.uc3m.es/bachelor-degree/data-science\"]\n",
        "\n",
        "    def parse(self, response):\n",
        "        # Find the Web Analytics course URL and make a request\n",
        "        web_analytics_link = response.xpath('//*[contains(text(), \"Web Analytics\")]/parent::a/@href').get()\n",
        "        yield scrapy.Request(url=web_analytics_link, callback=self.get_description, dont_filter=True)\n",
        "\n",
        "    def get_description(self, response):\n",
        "        # Locate the selector of \"Description of contents: programme\"\n",
        "        selector = response.xpath('//*[contains(text(), \"Description of contents: programme\")]')\n",
        "\n",
        "        # After inspecting the HTML, we find that the next sibling contains the text\n",
        "        next_sibling = selector.xpath('following-sibling::*//text()').getall()\n",
        "        print(f\"Description of contents: programme\\n{''.join(next_sibling).strip()}\")"
      ],
      "metadata": {
        "id": "5KRwCmxCJ_qd"
      },
      "execution_count": null,
      "outputs": []
    },
    {
      "cell_type": "code",
      "source": [
        "!scrapy crawl web_spider"
      ],
      "metadata": {
        "id": "MBbNCnALKAyi",
        "colab": {
          "base_uri": "https://localhost:8080/"
        },
        "outputId": "7736659b-4192-4195-cfa8-c64f338e906a"
      },
      "execution_count": 16,
      "outputs": [
        {
          "output_type": "stream",
          "name": "stdout",
          "text": [
            "2024-09-29 09:51:45 [scrapy.utils.log] INFO: Scrapy 2.11.2 started (bot: scrapy_lab)\n",
            "2024-09-29 09:51:45 [scrapy.utils.log] INFO: Versions: lxml 4.9.4.0, libxml2 2.10.3, cssselect 1.2.0, parsel 1.9.1, w3lib 2.2.1, Twisted 24.7.0, Python 3.10.12 (main, Sep 11 2024, 15:47:36) [GCC 11.4.0], pyOpenSSL 24.2.1 (OpenSSL 3.3.2 3 Sep 2024), cryptography 43.0.1, Platform Linux-6.1.85+-x86_64-with-glibc2.35\n",
            "2024-09-29 09:51:45 [scrapy.addons] INFO: Enabled addons:\n",
            "[]\n",
            "2024-09-29 09:51:45 [asyncio] DEBUG: Using selector: EpollSelector\n",
            "2024-09-29 09:51:45 [scrapy.utils.log] DEBUG: Using reactor: twisted.internet.asyncioreactor.AsyncioSelectorReactor\n",
            "2024-09-29 09:51:45 [scrapy.utils.log] DEBUG: Using asyncio event loop: asyncio.unix_events._UnixSelectorEventLoop\n",
            "2024-09-29 09:51:45 [scrapy.extensions.telnet] INFO: Telnet Password: 6a6d540fa8ae101b\n",
            "2024-09-29 09:51:45 [scrapy.middleware] INFO: Enabled extensions:\n",
            "['scrapy.extensions.corestats.CoreStats',\n",
            " 'scrapy.extensions.telnet.TelnetConsole',\n",
            " 'scrapy.extensions.memusage.MemoryUsage',\n",
            " 'scrapy.extensions.logstats.LogStats']\n",
            "2024-09-29 09:51:45 [scrapy.crawler] INFO: Overridden settings:\n",
            "{'BOT_NAME': 'scrapy_lab',\n",
            " 'FEED_EXPORT_ENCODING': 'utf-8',\n",
            " 'NEWSPIDER_MODULE': 'scrapy_lab.spiders',\n",
            " 'REQUEST_FINGERPRINTER_IMPLEMENTATION': '2.7',\n",
            " 'ROBOTSTXT_OBEY': True,\n",
            " 'SPIDER_MODULES': ['scrapy_lab.spiders'],\n",
            " 'TWISTED_REACTOR': 'twisted.internet.asyncioreactor.AsyncioSelectorReactor'}\n",
            "2024-09-29 09:51:45 [scrapy.middleware] INFO: Enabled downloader middlewares:\n",
            "['scrapy.downloadermiddlewares.offsite.OffsiteMiddleware',\n",
            " 'scrapy.downloadermiddlewares.robotstxt.RobotsTxtMiddleware',\n",
            " 'scrapy.downloadermiddlewares.httpauth.HttpAuthMiddleware',\n",
            " 'scrapy.downloadermiddlewares.downloadtimeout.DownloadTimeoutMiddleware',\n",
            " 'scrapy.downloadermiddlewares.defaultheaders.DefaultHeadersMiddleware',\n",
            " 'scrapy.downloadermiddlewares.useragent.UserAgentMiddleware',\n",
            " 'scrapy.downloadermiddlewares.retry.RetryMiddleware',\n",
            " 'scrapy.downloadermiddlewares.redirect.MetaRefreshMiddleware',\n",
            " 'scrapy.downloadermiddlewares.httpcompression.HttpCompressionMiddleware',\n",
            " 'scrapy.downloadermiddlewares.redirect.RedirectMiddleware',\n",
            " 'scrapy.downloadermiddlewares.cookies.CookiesMiddleware',\n",
            " 'scrapy.downloadermiddlewares.httpproxy.HttpProxyMiddleware',\n",
            " 'scrapy.downloadermiddlewares.stats.DownloaderStats']\n",
            "2024-09-29 09:51:45 [scrapy.middleware] INFO: Enabled spider middlewares:\n",
            "['scrapy.spidermiddlewares.httperror.HttpErrorMiddleware',\n",
            " 'scrapy.spidermiddlewares.referer.RefererMiddleware',\n",
            " 'scrapy.spidermiddlewares.urllength.UrlLengthMiddleware',\n",
            " 'scrapy.spidermiddlewares.depth.DepthMiddleware']\n",
            "2024-09-29 09:51:45 [scrapy.middleware] INFO: Enabled item pipelines:\n",
            "[]\n",
            "2024-09-29 09:51:45 [scrapy.core.engine] INFO: Spider opened\n",
            "2024-09-29 09:51:45 [scrapy.extensions.logstats] INFO: Crawled 0 pages (at 0 pages/min), scraped 0 items (at 0 items/min)\n",
            "2024-09-29 09:51:45 [scrapy.extensions.telnet] INFO: Telnet console listening on 127.0.0.1:6023\n",
            "2024-09-29 09:51:46 [scrapy.core.engine] DEBUG: Crawled (200) <GET https://www.uc3m.es/robots.txt> (referer: None)\n",
            "2024-09-29 09:51:46 [scrapy.core.engine] DEBUG: Crawled (200) <GET https://www.uc3m.es/bachelor-degree/data-science> (referer: None)\n",
            "2024-09-29 09:51:46 [scrapy.downloadermiddlewares.offsite] DEBUG: Filtered offsite request to 'aplicaciones.uc3m.es': <GET https://aplicaciones.uc3m.es/robots.txt>\n",
            "2024-09-29 09:51:47 [scrapy.core.engine] DEBUG: Crawled (200) <GET https://aplicaciones.uc3m.es/cpa/generaFicha?&est=350&plan=392&asig=16507&idioma=2> (referer: https://www.uc3m.es/bachelor-degree/data-science)\n",
            "Description of contents: programme\n",
            "1.\tData Collection in the Web ecosystem: \n",
            "        1.1  Scrapers, Crawlers\n",
            "        1.2\tAPIs\n",
            "2.\tData Analytics in the web\n",
            "        2.1  Graph Analysis: Centrality and Influence metrics\n",
            "        2.2  Network structure: \n",
            "               2.2.1 Type of networks (bipartite graph, small world, scale free)\n",
            "               2.2.2 Clustering, Community Detection, K-core decomposition\n",
            "\n",
            "3.\tWeb data visualization\n",
            "        3.1\tRepresentation of web information.\n",
            "        3.2\tVisualization tools.\n",
            "\n",
            "4.\tFinal Web Analytics Project\n",
            "        4.1\tThe project needs to include the three components presented above (Data Collection, Data Analytics and Data Visualization\n",
            "2024-09-29 09:51:47 [scrapy.core.engine] INFO: Closing spider (finished)\n",
            "2024-09-29 09:51:47 [scrapy.statscollectors] INFO: Dumping Scrapy stats:\n",
            "{'downloader/exception_count': 1,\n",
            " 'downloader/exception_type_count/scrapy.exceptions.IgnoreRequest': 1,\n",
            " 'downloader/request_bytes': 795,\n",
            " 'downloader/request_count': 3,\n",
            " 'downloader/request_method_count/GET': 3,\n",
            " 'downloader/response_bytes': 26135,\n",
            " 'downloader/response_count': 3,\n",
            " 'downloader/response_status_count/200': 3,\n",
            " 'elapsed_time_seconds': 2.405829,\n",
            " 'finish_reason': 'finished',\n",
            " 'finish_time': datetime.datetime(2024, 9, 29, 9, 51, 47, 980505, tzinfo=datetime.timezone.utc),\n",
            " 'httpcompression/response_bytes': 110683,\n",
            " 'httpcompression/response_count': 3,\n",
            " 'log_count/DEBUG': 7,\n",
            " 'log_count/INFO': 10,\n",
            " 'memusage/max': 127082496,\n",
            " 'memusage/startup': 127082496,\n",
            " 'offsite/domains': 1,\n",
            " 'offsite/filtered': 1,\n",
            " 'request_depth_max': 1,\n",
            " 'response_received_count': 3,\n",
            " 'robotstxt/request_count': 2,\n",
            " 'robotstxt/response_count': 1,\n",
            " 'robotstxt/response_status_count/200': 1,\n",
            " 'scheduler/dequeued': 2,\n",
            " 'scheduler/dequeued/memory': 2,\n",
            " 'scheduler/enqueued': 2,\n",
            " 'scheduler/enqueued/memory': 2,\n",
            " 'start_time': datetime.datetime(2024, 9, 29, 9, 51, 45, 574676, tzinfo=datetime.timezone.utc)}\n",
            "2024-09-29 09:51:47 [scrapy.core.engine] INFO: Spider closed (finished)\n"
          ]
        }
      ]
    },
    {
      "cell_type": "markdown",
      "metadata": {
        "id": "QN4L9SxRP3Hj"
      },
      "source": [
        "# MILESTONE 3\n",
        "\n",
        "a) Modify your code from previous milestones for running both crawlers in the same command line process.\n",
        "\n",
        "\n",
        "b) Instead of printing the results (from Milestone 1 and 2), save them in a file."
      ]
    },
    {
      "cell_type": "code",
      "source": [
        "from google.colab import drive\n",
        "drive.mount('/content/drive')"
      ],
      "metadata": {
        "id": "3royX3V8KDgV",
        "colab": {
          "base_uri": "https://localhost:8080/"
        },
        "outputId": "59dfa994-00f0-44aa-920e-f8ea4fdaddc1"
      },
      "execution_count": 17,
      "outputs": [
        {
          "output_type": "stream",
          "name": "stdout",
          "text": [
            "Mounted at /content/drive\n"
          ]
        }
      ]
    },
    {
      "cell_type": "code",
      "metadata": {
        "id": "G84E8DrUXFwt",
        "colab": {
          "base_uri": "https://localhost:8080/"
        },
        "outputId": "8396650b-96e7-49e3-e2f8-1d9b3f5aff41"
      },
      "source": [
        "import scrapy\n",
        "from scrapy.crawler import CrawlerProcess\n",
        "from scrapy.utils.project import get_project_settings\n",
        "\n",
        "class DatascienceSpider(scrapy.Spider):\n",
        "    name = 'datascience_spider'\n",
        "    allowed_domains = ['uc3m.es']\n",
        "    start_urls = ['https://www.uc3m.es/bachelor-degree/data-science']\n",
        "\n",
        "    def parse(self, response):\n",
        "        # Extract the header with id=\"program\"\n",
        "        program_header = response.xpath('//div[@id=\"program\"]/h2/text()').get()\n",
        "\n",
        "        # Write the header in the file\n",
        "        with open(\"/content/drive/My Drive/datascience_content.txt\", \"w\") as f:\n",
        "            f.write(f\"Program Header: {program_header} \\n\\n\")\n",
        "\n",
        "        # Now make a new request to trigger the table callback\n",
        "        yield scrapy.Request(url=response.url, callback=self.get_table, dont_filter=True)\n",
        "\n",
        "    def get_table(self, response):\n",
        "        # Find the \"Year 1 - Semester 1\" table\n",
        "        table = response.xpath('//*[contains(text(), \"Year 1 - Semester 1\")]/following-sibling::table').ge()\n",
        "\n",
        "        # Save the results\n",
        "        with open(\"/content/drive/My Drive/datascience_content.txt\", \"a\") as f:\n",
        "            f.write(f\"Table:\\n{table}\")\n",
        "\n",
        "class WebSpiderSpider(scrapy.Spider):\n",
        "    name = \"web_spider\"\n",
        "    allowed_domains = [\"www.uc3m.es\"]\n",
        "    start_urls = [\"https://www.uc3m.es/bachelor-degree/data-science\"]\n",
        "\n",
        "    def parse(self, response):\n",
        "        # Find the Web Analytics course URL\n",
        "        web_analytics_link = response.xpath('//*[contains(text(), \"Web Analytics\")]/parent::a/@href').get()\n",
        "\n",
        "        # Open a file and save the results\n",
        "        with open(\"/content/drive/My Drive/webspider_content.txt\", \"w\") as f:\n",
        "          f.write(f\"Web Analytics Link:\\n{web_analytics_link}\\n\\n\")\n",
        "\n",
        "        # Now make a new request to trigger the description callback\n",
        "        yield scrapy.Request(url=web_analytics_link, callback=self.get_description, dont_filter=True)\n",
        "\n",
        "    def get_description(self, response):\n",
        "        # Locate the selector of \"Description of contents: programme\"\n",
        "        selector = response.xpath('//*[contains(text(), \"Description of contents: programme\")]')\n",
        "\n",
        "        # After inspecting the HTML, we find that the next sibling contains the text\n",
        "        next_sibling = selector.xpath('following-sibling::*//text()').getall()\n",
        "\n",
        "        # Save the results\n",
        "        with open(\"/content/drive/My Drive/webspider_content.txt\", \"a\") as f:\n",
        "          f.write(f\"Description of contents: programme\\n{''.join(next_sibling).strip()}\")\n",
        "\n",
        "settings = get_project_settings()\n",
        "process = CrawlerProcess(settings)\n",
        "process.crawl(DatascienceSpider)\n",
        "process.crawl(WebSpiderSpider)\n",
        "process.start()"
      ],
      "execution_count": 1,
      "outputs": [
        {
          "output_type": "stream",
          "name": "stderr",
          "text": [
            "INFO:scrapy.utils.log:Scrapy 2.11.2 started (bot: scrapybot)\n",
            "2024-09-29 09:53:05 [scrapy.utils.log] INFO: Scrapy 2.11.2 started (bot: scrapybot)\n",
            "INFO:scrapy.utils.log:Versions: lxml 4.9.4.0, libxml2 2.10.3, cssselect 1.2.0, parsel 1.9.1, w3lib 2.2.1, Twisted 24.7.0, Python 3.10.12 (main, Sep 11 2024, 15:47:36) [GCC 11.4.0], pyOpenSSL 24.2.1 (OpenSSL 3.3.2 3 Sep 2024), cryptography 43.0.1, Platform Linux-6.1.85+-x86_64-with-glibc2.35\n",
            "2024-09-29 09:53:05 [scrapy.utils.log] INFO: Versions: lxml 4.9.4.0, libxml2 2.10.3, cssselect 1.2.0, parsel 1.9.1, w3lib 2.2.1, Twisted 24.7.0, Python 3.10.12 (main, Sep 11 2024, 15:47:36) [GCC 11.4.0], pyOpenSSL 24.2.1 (OpenSSL 3.3.2 3 Sep 2024), cryptography 43.0.1, Platform Linux-6.1.85+-x86_64-with-glibc2.35\n",
            "INFO:scrapy.addons:Enabled addons:\n",
            "[]\n",
            "2024-09-29 09:53:05 [scrapy.addons] INFO: Enabled addons:\n",
            "[]\n",
            "/usr/local/lib/python3.10/dist-packages/scrapy/utils/request.py:254: ScrapyDeprecationWarning: '2.6' is a deprecated value for the 'REQUEST_FINGERPRINTER_IMPLEMENTATION' setting.\n",
            "\n",
            "It is also the default value. In other words, it is normal to get this warning if you have not defined a value for the 'REQUEST_FINGERPRINTER_IMPLEMENTATION' setting. This is so for backward compatibility reasons, but it will change in a future version of Scrapy.\n",
            "\n",
            "See the documentation of the 'REQUEST_FINGERPRINTER_IMPLEMENTATION' setting for information on how to handle this deprecation.\n",
            "  return cls(crawler)\n",
            "DEBUG:scrapy.utils.log:Using reactor: twisted.internet.epollreactor.EPollReactor\n",
            "2024-09-29 09:53:05 [scrapy.utils.log] DEBUG: Using reactor: twisted.internet.epollreactor.EPollReactor\n",
            "INFO:scrapy.extensions.telnet:Telnet Password: 43d1879b00e7033e\n",
            "2024-09-29 09:53:05 [scrapy.extensions.telnet] INFO: Telnet Password: 43d1879b00e7033e\n",
            "INFO:scrapy.middleware:Enabled extensions:\n",
            "['scrapy.extensions.corestats.CoreStats',\n",
            " 'scrapy.extensions.telnet.TelnetConsole',\n",
            " 'scrapy.extensions.memusage.MemoryUsage',\n",
            " 'scrapy.extensions.logstats.LogStats']\n",
            "2024-09-29 09:53:05 [scrapy.middleware] INFO: Enabled extensions:\n",
            "['scrapy.extensions.corestats.CoreStats',\n",
            " 'scrapy.extensions.telnet.TelnetConsole',\n",
            " 'scrapy.extensions.memusage.MemoryUsage',\n",
            " 'scrapy.extensions.logstats.LogStats']\n",
            "INFO:scrapy.crawler:Overridden settings:\n",
            "{}\n",
            "2024-09-29 09:53:05 [scrapy.crawler] INFO: Overridden settings:\n",
            "{}\n",
            "INFO:scrapy.middleware:Enabled downloader middlewares:\n",
            "['scrapy.downloadermiddlewares.offsite.OffsiteMiddleware',\n",
            " 'scrapy.downloadermiddlewares.httpauth.HttpAuthMiddleware',\n",
            " 'scrapy.downloadermiddlewares.downloadtimeout.DownloadTimeoutMiddleware',\n",
            " 'scrapy.downloadermiddlewares.defaultheaders.DefaultHeadersMiddleware',\n",
            " 'scrapy.downloadermiddlewares.useragent.UserAgentMiddleware',\n",
            " 'scrapy.downloadermiddlewares.retry.RetryMiddleware',\n",
            " 'scrapy.downloadermiddlewares.redirect.MetaRefreshMiddleware',\n",
            " 'scrapy.downloadermiddlewares.httpcompression.HttpCompressionMiddleware',\n",
            " 'scrapy.downloadermiddlewares.redirect.RedirectMiddleware',\n",
            " 'scrapy.downloadermiddlewares.cookies.CookiesMiddleware',\n",
            " 'scrapy.downloadermiddlewares.httpproxy.HttpProxyMiddleware',\n",
            " 'scrapy.downloadermiddlewares.stats.DownloaderStats']\n",
            "2024-09-29 09:53:06 [scrapy.middleware] INFO: Enabled downloader middlewares:\n",
            "['scrapy.downloadermiddlewares.offsite.OffsiteMiddleware',\n",
            " 'scrapy.downloadermiddlewares.httpauth.HttpAuthMiddleware',\n",
            " 'scrapy.downloadermiddlewares.downloadtimeout.DownloadTimeoutMiddleware',\n",
            " 'scrapy.downloadermiddlewares.defaultheaders.DefaultHeadersMiddleware',\n",
            " 'scrapy.downloadermiddlewares.useragent.UserAgentMiddleware',\n",
            " 'scrapy.downloadermiddlewares.retry.RetryMiddleware',\n",
            " 'scrapy.downloadermiddlewares.redirect.MetaRefreshMiddleware',\n",
            " 'scrapy.downloadermiddlewares.httpcompression.HttpCompressionMiddleware',\n",
            " 'scrapy.downloadermiddlewares.redirect.RedirectMiddleware',\n",
            " 'scrapy.downloadermiddlewares.cookies.CookiesMiddleware',\n",
            " 'scrapy.downloadermiddlewares.httpproxy.HttpProxyMiddleware',\n",
            " 'scrapy.downloadermiddlewares.stats.DownloaderStats']\n",
            "INFO:scrapy.middleware:Enabled spider middlewares:\n",
            "['scrapy.spidermiddlewares.httperror.HttpErrorMiddleware',\n",
            " 'scrapy.spidermiddlewares.referer.RefererMiddleware',\n",
            " 'scrapy.spidermiddlewares.urllength.UrlLengthMiddleware',\n",
            " 'scrapy.spidermiddlewares.depth.DepthMiddleware']\n",
            "2024-09-29 09:53:06 [scrapy.middleware] INFO: Enabled spider middlewares:\n",
            "['scrapy.spidermiddlewares.httperror.HttpErrorMiddleware',\n",
            " 'scrapy.spidermiddlewares.referer.RefererMiddleware',\n",
            " 'scrapy.spidermiddlewares.urllength.UrlLengthMiddleware',\n",
            " 'scrapy.spidermiddlewares.depth.DepthMiddleware']\n",
            "INFO:scrapy.middleware:Enabled item pipelines:\n",
            "[]\n",
            "2024-09-29 09:53:06 [scrapy.middleware] INFO: Enabled item pipelines:\n",
            "[]\n",
            "INFO:scrapy.core.engine:Spider opened\n",
            "2024-09-29 09:53:06 [scrapy.core.engine] INFO: Spider opened\n",
            "INFO:scrapy.extensions.logstats:Crawled 0 pages (at 0 pages/min), scraped 0 items (at 0 items/min)\n",
            "2024-09-29 09:53:06 [scrapy.extensions.logstats] INFO: Crawled 0 pages (at 0 pages/min), scraped 0 items (at 0 items/min)\n",
            "INFO:scrapy.extensions.telnet:Telnet console listening on 127.0.0.1:6023\n",
            "2024-09-29 09:53:06 [scrapy.extensions.telnet] INFO: Telnet console listening on 127.0.0.1:6023\n",
            "INFO:scrapy.addons:Enabled addons:\n",
            "[]\n",
            "2024-09-29 09:53:06 [scrapy.addons] INFO: Enabled addons:\n",
            "[]\n",
            "/usr/local/lib/python3.10/dist-packages/scrapy/utils/request.py:254: ScrapyDeprecationWarning: '2.6' is a deprecated value for the 'REQUEST_FINGERPRINTER_IMPLEMENTATION' setting.\n",
            "\n",
            "It is also the default value. In other words, it is normal to get this warning if you have not defined a value for the 'REQUEST_FINGERPRINTER_IMPLEMENTATION' setting. This is so for backward compatibility reasons, but it will change in a future version of Scrapy.\n",
            "\n",
            "See the documentation of the 'REQUEST_FINGERPRINTER_IMPLEMENTATION' setting for information on how to handle this deprecation.\n",
            "  return cls(crawler)\n",
            "INFO:scrapy.extensions.telnet:Telnet Password: 537a6f9a967d91d0\n",
            "2024-09-29 09:53:06 [scrapy.extensions.telnet] INFO: Telnet Password: 537a6f9a967d91d0\n",
            "INFO:scrapy.middleware:Enabled extensions:\n",
            "['scrapy.extensions.corestats.CoreStats',\n",
            " 'scrapy.extensions.telnet.TelnetConsole',\n",
            " 'scrapy.extensions.memusage.MemoryUsage',\n",
            " 'scrapy.extensions.logstats.LogStats']\n",
            "2024-09-29 09:53:06 [scrapy.middleware] INFO: Enabled extensions:\n",
            "['scrapy.extensions.corestats.CoreStats',\n",
            " 'scrapy.extensions.telnet.TelnetConsole',\n",
            " 'scrapy.extensions.memusage.MemoryUsage',\n",
            " 'scrapy.extensions.logstats.LogStats']\n",
            "INFO:scrapy.crawler:Overridden settings:\n",
            "{}\n",
            "2024-09-29 09:53:06 [scrapy.crawler] INFO: Overridden settings:\n",
            "{}\n",
            "INFO:scrapy.middleware:Enabled downloader middlewares:\n",
            "['scrapy.downloadermiddlewares.offsite.OffsiteMiddleware',\n",
            " 'scrapy.downloadermiddlewares.httpauth.HttpAuthMiddleware',\n",
            " 'scrapy.downloadermiddlewares.downloadtimeout.DownloadTimeoutMiddleware',\n",
            " 'scrapy.downloadermiddlewares.defaultheaders.DefaultHeadersMiddleware',\n",
            " 'scrapy.downloadermiddlewares.useragent.UserAgentMiddleware',\n",
            " 'scrapy.downloadermiddlewares.retry.RetryMiddleware',\n",
            " 'scrapy.downloadermiddlewares.redirect.MetaRefreshMiddleware',\n",
            " 'scrapy.downloadermiddlewares.httpcompression.HttpCompressionMiddleware',\n",
            " 'scrapy.downloadermiddlewares.redirect.RedirectMiddleware',\n",
            " 'scrapy.downloadermiddlewares.cookies.CookiesMiddleware',\n",
            " 'scrapy.downloadermiddlewares.httpproxy.HttpProxyMiddleware',\n",
            " 'scrapy.downloadermiddlewares.stats.DownloaderStats']\n",
            "2024-09-29 09:53:06 [scrapy.middleware] INFO: Enabled downloader middlewares:\n",
            "['scrapy.downloadermiddlewares.offsite.OffsiteMiddleware',\n",
            " 'scrapy.downloadermiddlewares.httpauth.HttpAuthMiddleware',\n",
            " 'scrapy.downloadermiddlewares.downloadtimeout.DownloadTimeoutMiddleware',\n",
            " 'scrapy.downloadermiddlewares.defaultheaders.DefaultHeadersMiddleware',\n",
            " 'scrapy.downloadermiddlewares.useragent.UserAgentMiddleware',\n",
            " 'scrapy.downloadermiddlewares.retry.RetryMiddleware',\n",
            " 'scrapy.downloadermiddlewares.redirect.MetaRefreshMiddleware',\n",
            " 'scrapy.downloadermiddlewares.httpcompression.HttpCompressionMiddleware',\n",
            " 'scrapy.downloadermiddlewares.redirect.RedirectMiddleware',\n",
            " 'scrapy.downloadermiddlewares.cookies.CookiesMiddleware',\n",
            " 'scrapy.downloadermiddlewares.httpproxy.HttpProxyMiddleware',\n",
            " 'scrapy.downloadermiddlewares.stats.DownloaderStats']\n",
            "INFO:scrapy.middleware:Enabled spider middlewares:\n",
            "['scrapy.spidermiddlewares.httperror.HttpErrorMiddleware',\n",
            " 'scrapy.spidermiddlewares.referer.RefererMiddleware',\n",
            " 'scrapy.spidermiddlewares.urllength.UrlLengthMiddleware',\n",
            " 'scrapy.spidermiddlewares.depth.DepthMiddleware']\n",
            "2024-09-29 09:53:06 [scrapy.middleware] INFO: Enabled spider middlewares:\n",
            "['scrapy.spidermiddlewares.httperror.HttpErrorMiddleware',\n",
            " 'scrapy.spidermiddlewares.referer.RefererMiddleware',\n",
            " 'scrapy.spidermiddlewares.urllength.UrlLengthMiddleware',\n",
            " 'scrapy.spidermiddlewares.depth.DepthMiddleware']\n",
            "INFO:scrapy.middleware:Enabled item pipelines:\n",
            "[]\n",
            "2024-09-29 09:53:06 [scrapy.middleware] INFO: Enabled item pipelines:\n",
            "[]\n",
            "INFO:scrapy.core.engine:Spider opened\n",
            "2024-09-29 09:53:06 [scrapy.core.engine] INFO: Spider opened\n",
            "INFO:scrapy.extensions.logstats:Crawled 0 pages (at 0 pages/min), scraped 0 items (at 0 items/min)\n",
            "2024-09-29 09:53:06 [scrapy.extensions.logstats] INFO: Crawled 0 pages (at 0 pages/min), scraped 0 items (at 0 items/min)\n",
            "INFO:scrapy.extensions.telnet:Telnet console listening on 127.0.0.1:6024\n",
            "2024-09-29 09:53:06 [scrapy.extensions.telnet] INFO: Telnet console listening on 127.0.0.1:6024\n",
            "DEBUG:scrapy.core.engine:Crawled (200) <GET https://www.uc3m.es/bachelor-degree/data-science> (referer: None)\n",
            "2024-09-29 09:53:07 [scrapy.core.engine] DEBUG: Crawled (200) <GET https://www.uc3m.es/bachelor-degree/data-science> (referer: None)\n",
            "DEBUG:scrapy.core.engine:Crawled (200) <GET https://www.uc3m.es/bachelor-degree/data-science> (referer: None)\n",
            "2024-09-29 09:53:07 [scrapy.core.engine] DEBUG: Crawled (200) <GET https://www.uc3m.es/bachelor-degree/data-science> (referer: None)\n",
            "DEBUG:scrapy.core.engine:Crawled (200) <GET https://www.uc3m.es/bachelor-degree/data-science> (referer: https://www.uc3m.es/bachelor-degree/data-science)\n",
            "2024-09-29 09:53:08 [scrapy.core.engine] DEBUG: Crawled (200) <GET https://www.uc3m.es/bachelor-degree/data-science> (referer: https://www.uc3m.es/bachelor-degree/data-science)\n",
            "INFO:scrapy.core.engine:Closing spider (finished)\n",
            "2024-09-29 09:53:08 [scrapy.core.engine] INFO: Closing spider (finished)\n",
            "INFO:scrapy.statscollectors:Dumping Scrapy stats:\n",
            "{'downloader/request_bytes': 627,\n",
            " 'downloader/request_count': 2,\n",
            " 'downloader/request_method_count/GET': 2,\n",
            " 'downloader/response_bytes': 35409,\n",
            " 'downloader/response_count': 2,\n",
            " 'downloader/response_status_count/200': 2,\n",
            " 'elapsed_time_seconds': 1.970887,\n",
            " 'finish_reason': 'finished',\n",
            " 'finish_time': datetime.datetime(2024, 9, 29, 9, 53, 8, 396078, tzinfo=datetime.timezone.utc),\n",
            " 'httpcompression/response_bytes': 174582,\n",
            " 'httpcompression/response_count': 2,\n",
            " 'log_count/DEBUG': 4,\n",
            " 'log_count/INFO': 20,\n",
            " 'memusage/max': 173264896,\n",
            " 'memusage/startup': 173264896,\n",
            " 'request_depth_max': 1,\n",
            " 'response_received_count': 2,\n",
            " 'scheduler/dequeued': 2,\n",
            " 'scheduler/dequeued/memory': 2,\n",
            " 'scheduler/enqueued': 2,\n",
            " 'scheduler/enqueued/memory': 2,\n",
            " 'start_time': datetime.datetime(2024, 9, 29, 9, 53, 6, 425191, tzinfo=datetime.timezone.utc)}\n",
            "2024-09-29 09:53:08 [scrapy.statscollectors] INFO: Dumping Scrapy stats:\n",
            "{'downloader/request_bytes': 627,\n",
            " 'downloader/request_count': 2,\n",
            " 'downloader/request_method_count/GET': 2,\n",
            " 'downloader/response_bytes': 35409,\n",
            " 'downloader/response_count': 2,\n",
            " 'downloader/response_status_count/200': 2,\n",
            " 'elapsed_time_seconds': 1.970887,\n",
            " 'finish_reason': 'finished',\n",
            " 'finish_time': datetime.datetime(2024, 9, 29, 9, 53, 8, 396078, tzinfo=datetime.timezone.utc),\n",
            " 'httpcompression/response_bytes': 174582,\n",
            " 'httpcompression/response_count': 2,\n",
            " 'log_count/DEBUG': 4,\n",
            " 'log_count/INFO': 20,\n",
            " 'memusage/max': 173264896,\n",
            " 'memusage/startup': 173264896,\n",
            " 'request_depth_max': 1,\n",
            " 'response_received_count': 2,\n",
            " 'scheduler/dequeued': 2,\n",
            " 'scheduler/dequeued/memory': 2,\n",
            " 'scheduler/enqueued': 2,\n",
            " 'scheduler/enqueued/memory': 2,\n",
            " 'start_time': datetime.datetime(2024, 9, 29, 9, 53, 6, 425191, tzinfo=datetime.timezone.utc)}\n",
            "INFO:scrapy.core.engine:Spider closed (finished)\n",
            "2024-09-29 09:53:08 [scrapy.core.engine] INFO: Spider closed (finished)\n",
            "DEBUG:scrapy.core.engine:Crawled (200) <GET https://aplicaciones.uc3m.es/cpa/generaFicha?&est=350&plan=392&asig=16507&idioma=2> (referer: https://www.uc3m.es/bachelor-degree/data-science)\n",
            "2024-09-29 09:53:08 [scrapy.core.engine] DEBUG: Crawled (200) <GET https://aplicaciones.uc3m.es/cpa/generaFicha?&est=350&plan=392&asig=16507&idioma=2> (referer: https://www.uc3m.es/bachelor-degree/data-science)\n",
            "INFO:scrapy.core.engine:Closing spider (finished)\n",
            "2024-09-29 09:53:08 [scrapy.core.engine] INFO: Closing spider (finished)\n",
            "INFO:scrapy.statscollectors:Dumping Scrapy stats:\n",
            "{'downloader/request_bytes': 573,\n",
            " 'downloader/request_count': 2,\n",
            " 'downloader/request_method_count/GET': 2,\n",
            " 'downloader/response_bytes': 25131,\n",
            " 'downloader/response_count': 2,\n",
            " 'downloader/response_status_count/200': 2,\n",
            " 'elapsed_time_seconds': 2.41562,\n",
            " 'finish_reason': 'finished',\n",
            " 'finish_time': datetime.datetime(2024, 9, 29, 9, 53, 8, 949881, tzinfo=datetime.timezone.utc),\n",
            " 'httpcompression/response_bytes': 105157,\n",
            " 'httpcompression/response_count': 2,\n",
            " 'log_count/DEBUG': 4,\n",
            " 'log_count/INFO': 13,\n",
            " 'memusage/max': 173264896,\n",
            " 'memusage/startup': 173264896,\n",
            " 'request_depth_max': 1,\n",
            " 'response_received_count': 2,\n",
            " 'scheduler/dequeued': 2,\n",
            " 'scheduler/dequeued/memory': 2,\n",
            " 'scheduler/enqueued': 2,\n",
            " 'scheduler/enqueued/memory': 2,\n",
            " 'start_time': datetime.datetime(2024, 9, 29, 9, 53, 6, 534261, tzinfo=datetime.timezone.utc)}\n",
            "2024-09-29 09:53:08 [scrapy.statscollectors] INFO: Dumping Scrapy stats:\n",
            "{'downloader/request_bytes': 573,\n",
            " 'downloader/request_count': 2,\n",
            " 'downloader/request_method_count/GET': 2,\n",
            " 'downloader/response_bytes': 25131,\n",
            " 'downloader/response_count': 2,\n",
            " 'downloader/response_status_count/200': 2,\n",
            " 'elapsed_time_seconds': 2.41562,\n",
            " 'finish_reason': 'finished',\n",
            " 'finish_time': datetime.datetime(2024, 9, 29, 9, 53, 8, 949881, tzinfo=datetime.timezone.utc),\n",
            " 'httpcompression/response_bytes': 105157,\n",
            " 'httpcompression/response_count': 2,\n",
            " 'log_count/DEBUG': 4,\n",
            " 'log_count/INFO': 13,\n",
            " 'memusage/max': 173264896,\n",
            " 'memusage/startup': 173264896,\n",
            " 'request_depth_max': 1,\n",
            " 'response_received_count': 2,\n",
            " 'scheduler/dequeued': 2,\n",
            " 'scheduler/dequeued/memory': 2,\n",
            " 'scheduler/enqueued': 2,\n",
            " 'scheduler/enqueued/memory': 2,\n",
            " 'start_time': datetime.datetime(2024, 9, 29, 9, 53, 6, 534261, tzinfo=datetime.timezone.utc)}\n",
            "INFO:scrapy.core.engine:Spider closed (finished)\n",
            "2024-09-29 09:53:08 [scrapy.core.engine] INFO: Spider closed (finished)\n"
          ]
        }
      ]
    }
  ]
}